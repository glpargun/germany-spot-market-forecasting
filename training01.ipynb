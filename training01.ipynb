{
 "cells": [
  {
   "cell_type": "code",
   "execution_count": 24,
   "id": "b541a97e",
   "metadata": {},
   "outputs": [],
   "source": [
    "import numpy as np\n",
    "import pandas as pd\n",
    "import pickle, csv\n",
    "import os\n",
    "\n",
    "from keras.models import Sequential, load_model, Model\n",
    "from keras.layers import LSTM, Dense, Dropout, Input, concatenate, Flatten, Reshape\n",
    "from keras import regularizers\n",
    "from keras.callbacks import ModelCheckpoint, EarlyStopping\n",
    "from tensorflow.keras.losses import MeanSquaredError\n",
    "from tensorflow.keras.metrics import RootMeanSquaredError\n",
    "from tensorflow.keras.optimizers import Adam\n",
    "from keras.preprocessing.sequence import TimeseriesGenerator\n",
    "import tensorflow.keras.backend as K\n",
    "from skimage.transform import resize\n",
    "\n",
    "from matplotlib import pyplot as plt\n",
    "from matplotlib import style\n",
    "from sklearn.preprocessing import StandardScaler, MinMaxScaler\n",
    "from sklearn.model_selection import train_test_split\n",
    "import seaborn as sns"
   ]
  },
  {
   "cell_type": "code",
   "execution_count": 25,
   "id": "4e606a35",
   "metadata": {},
   "outputs": [],
   "source": [
    "# Load powerprice data and format it\n",
    "df_powerprice = pd.read_csv(\"data/PowerPrice.csv\")\n",
    "df_powerprice[\"Time\"] = pd.to_datetime(df_powerprice[\"Time\"], infer_datetime_format=True)\n",
    "df_powerprice = df_powerprice.drop(columns=[\"Time\"])"
   ]
  },
  {
   "cell_type": "code",
   "execution_count": 26,
   "id": "26b7f3ba",
   "metadata": {},
   "outputs": [
    {
     "name": "stdout",
     "output_type": "stream",
     "text": [
      "biogas_kw_2019.pickle\n",
      "brown_coal_kw_2019.pickle\n",
      "completed_solar_kw_2019.pickle\n",
      "completed_wind_onshore_kw_2019.pickle\n",
      "demand_kw_2019.pickle\n",
      "hard_coal_kw_2019.pickle\n",
      "nuclear_kw_2019.pickle\n",
      "oil_kw_2019.pickle\n",
      "water_laufwasser_kw_2019.pickle\n",
      "water_pumpspeicher_PB_kw_2019.pickle\n",
      "water_pumpspeicher_TB_kw_2019.pickle\n",
      "water_speicherwasser_kw_2019.pickle\n",
      "wind_offshore_kw_2019.pickle\n"
     ]
    }
   ],
   "source": [
    "# read data from pickled files and concatenate into a single array\n",
    "theArrays = []\n",
    "for filename in os.listdir(\"data/Spatial\"):\n",
    "    if filename.endswith(\".pickle\"):\n",
    "        with open(os.path.join(\"data/Spatial\", filename), \"rb\") as file:\n",
    "            theArrays.append(pickle.load(file)[1:,:])\n",
    "        print(filename)\n",
    "\n",
    "combined_array = np.concatenate(theArrays, axis=0)\n",
    "\n",
    "# define regions and calculate number of rows per region\n",
    "num_regions = 99\n",
    "rows_per_region = combined_array.shape[0] // num_regions\n",
    "regions = [\"Region{}\".format(i) for i in range(1, num_regions + 1)]\n",
    "\n",
    "# create a DataFrame for each region and store in a list\n",
    "region_dfs = []\n",
    "for i, region in enumerate(regions):\n",
    "    region_array = combined_array[i*rows_per_region:(i+1)*rows_per_region, :]\n",
    "    region_df = pd.DataFrame(region_array, columns=pd.date_range('2019-01-01 00:00:00', '2019-12-31 23:45:00', freq='15min'), \n",
    "                             index=[\"Biogas (kW)\", \"Brown Coal (kW)\", \"Solar (kW)\", \"Wind Onshore (kW)\", \"Demand (kW)\",\n",
    "                                    \"Hard Coal (kW)\", \"Nuclear (kW)\", \"Oil (kW)\", \"Water Laufwasser (kW)\", \"Water Pumpspeicher PB (kW)\",\n",
    "                                    \"Water Pumpspeicher TB (kW)\", \"Water Speicherwasser (kW)\", \"Wind Offshore (kW)\"]).transpose()\n",
    "    region_dfs.append(region_df)"
   ]
  },
  {
   "cell_type": "code",
   "execution_count": 27,
   "id": "d637fa40",
   "metadata": {},
   "outputs": [
    {
     "data": {
      "text/plain": [
       "(40, 40)"
      ]
     },
     "execution_count": 27,
     "metadata": {},
     "output_type": "execute_result"
    }
   ],
   "source": [
    "#load the mask.csv\n",
    "mask_df = pd.read_csv(\"germany/mask.csv\", header=None)\n",
    "mask_df.shape"
   ]
  },
  {
   "cell_type": "code",
   "execution_count": 28,
   "id": "fc80985f",
   "metadata": {},
   "outputs": [
    {
     "data": {
      "text/plain": [
       "(13, 35040, 99)"
      ]
     },
     "execution_count": 28,
     "metadata": {},
     "output_type": "execute_result"
    }
   ],
   "source": [
    "# Transpose the data_array to shape (35040, 13, 99)\n",
    "data_array = np.transpose(theArrays, (0, 2, 1))\n",
    "data_array.shape"
   ]
  },
  {
   "cell_type": "code",
   "execution_count": 29,
   "id": "beb6adcd",
   "metadata": {},
   "outputs": [
    {
     "data": {
      "text/plain": [
       "(40, 40, 13)"
      ]
     },
     "execution_count": 29,
     "metadata": {},
     "output_type": "execute_result"
    }
   ],
   "source": [
    "# convert DataFrame to numpy array\n",
    "mask_arr = np.array(mask_df)\n",
    "\n",
    "# slice array along third dimension\n",
    "mask_resized = resize(mask_arr[...,0], (13, 40, 40))\n",
    "mask_resized = np.transpose(mask_resized, (2, 1, 0))\n",
    "mask_resized.shape"
   ]
  },
  {
   "cell_type": "code",
   "execution_count": null,
   "id": "3c13be19",
   "metadata": {},
   "outputs": [],
   "source": []
  },
  {
   "cell_type": "code",
   "execution_count": null,
   "id": "99e7d90a",
   "metadata": {},
   "outputs": [],
   "source": []
  },
  {
   "cell_type": "code",
   "execution_count": null,
   "id": "2fa353a2",
   "metadata": {},
   "outputs": [],
   "source": []
  },
  {
   "cell_type": "code",
   "execution_count": null,
   "id": "f33eae2f",
   "metadata": {},
   "outputs": [],
   "source": []
  },
  {
   "cell_type": "code",
   "execution_count": null,
   "id": "a28392cc",
   "metadata": {},
   "outputs": [],
   "source": []
  },
  {
   "cell_type": "code",
   "execution_count": null,
   "id": "8eae24ef",
   "metadata": {},
   "outputs": [],
   "source": []
  },
  {
   "cell_type": "code",
   "execution_count": null,
   "id": "b969e8cc",
   "metadata": {},
   "outputs": [],
   "source": []
  },
  {
   "cell_type": "code",
   "execution_count": null,
   "id": "7289e74e",
   "metadata": {},
   "outputs": [],
   "source": []
  },
  {
   "cell_type": "code",
   "execution_count": null,
   "id": "82bb8b89",
   "metadata": {},
   "outputs": [],
   "source": []
  },
  {
   "cell_type": "code",
   "execution_count": null,
   "id": "0de8eef2",
   "metadata": {},
   "outputs": [],
   "source": []
  },
  {
   "cell_type": "code",
   "execution_count": null,
   "id": "03d047ab",
   "metadata": {},
   "outputs": [],
   "source": []
  }
 ],
 "metadata": {
  "kernelspec": {
   "display_name": "Python 3 (ipykernel)",
   "language": "python",
   "name": "python3"
  },
  "language_info": {
   "codemirror_mode": {
    "name": "ipython",
    "version": 3
   },
   "file_extension": ".py",
   "mimetype": "text/x-python",
   "name": "python",
   "nbconvert_exporter": "python",
   "pygments_lexer": "ipython3",
   "version": "3.9.13"
  }
 },
 "nbformat": 4,
 "nbformat_minor": 5
}
