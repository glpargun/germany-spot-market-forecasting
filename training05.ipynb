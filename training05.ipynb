{
 "cells": [
  {
   "cell_type": "code",
   "execution_count": 32,
   "id": "b541a97e",
   "metadata": {},
   "outputs": [],
   "source": [
    "import numpy as np\n",
    "import pandas as pd\n",
    "import pickle, csv\n",
    "import os\n",
    "\n",
    "from keras.models import Sequential, load_model, Model\n",
    "from keras.layers import LSTM, Dense, Dropout, Input, concatenate, Flatten, Reshape,MaxPooling2D, Conv2D, TimeDistributed\n",
    "from keras import regularizers\n",
    "from keras.utils import to_categorical\n",
    "\n",
    "from keras.callbacks import ModelCheckpoint, EarlyStopping\n",
    "from tensorflow.keras.losses import MeanSquaredError\n",
    "from tensorflow.keras.metrics import RootMeanSquaredError\n",
    "from tensorflow.keras.optimizers import Adam\n",
    "from keras.preprocessing.sequence import TimeseriesGenerator\n",
    "import tensorflow.keras.backend as K\n",
    "from skimage.transform import resize\n",
    "from tensorflow.keras import layers, models\n",
    "\n",
    "\n",
    "from matplotlib import pyplot as plt\n",
    "from matplotlib import style\n",
    "from sklearn.preprocessing import StandardScaler, MinMaxScaler\n",
    "from sklearn.model_selection import train_test_split\n",
    "import seaborn as sns\n",
    "\n",
    "import tensorflow.keras.backend as K\n",
    "K.clear_session()"
   ]
  },
  {
   "cell_type": "code",
   "execution_count": 33,
   "id": "4e606a35",
   "metadata": {},
   "outputs": [
    {
     "data": {
      "text/html": [
       "<div>\n",
       "<style scoped>\n",
       "    .dataframe tbody tr th:only-of-type {\n",
       "        vertical-align: middle;\n",
       "    }\n",
       "\n",
       "    .dataframe tbody tr th {\n",
       "        vertical-align: top;\n",
       "    }\n",
       "\n",
       "    .dataframe thead th {\n",
       "        text-align: right;\n",
       "    }\n",
       "</style>\n",
       "<table border=\"1\" class=\"dataframe\">\n",
       "  <thead>\n",
       "    <tr style=\"text-align: right;\">\n",
       "      <th></th>\n",
       "      <th>DayAhead</th>\n",
       "      <th>Spot</th>\n",
       "      <th>REBAP</th>\n",
       "    </tr>\n",
       "  </thead>\n",
       "  <tbody>\n",
       "    <tr>\n",
       "      <th>0</th>\n",
       "      <td>2.83200</td>\n",
       "      <td>3.688</td>\n",
       "      <td>-4.566</td>\n",
       "    </tr>\n",
       "    <tr>\n",
       "      <th>1</th>\n",
       "      <td>2.37575</td>\n",
       "      <td>4.245</td>\n",
       "      <td>-13.964</td>\n",
       "    </tr>\n",
       "    <tr>\n",
       "      <th>2</th>\n",
       "      <td>1.91950</td>\n",
       "      <td>3.161</td>\n",
       "      <td>0.345</td>\n",
       "    </tr>\n",
       "    <tr>\n",
       "      <th>3</th>\n",
       "      <td>1.46325</td>\n",
       "      <td>1.664</td>\n",
       "      <td>3.048</td>\n",
       "    </tr>\n",
       "    <tr>\n",
       "      <th>4</th>\n",
       "      <td>1.00700</td>\n",
       "      <td>3.110</td>\n",
       "      <td>-6.679</td>\n",
       "    </tr>\n",
       "    <tr>\n",
       "      <th>...</th>\n",
       "      <td>...</td>\n",
       "      <td>...</td>\n",
       "      <td>...</td>\n",
       "    </tr>\n",
       "    <tr>\n",
       "      <th>35035</th>\n",
       "      <td>3.77625</td>\n",
       "      <td>3.342</td>\n",
       "      <td>4.856</td>\n",
       "    </tr>\n",
       "    <tr>\n",
       "      <th>35036</th>\n",
       "      <td>3.73900</td>\n",
       "      <td>4.425</td>\n",
       "      <td>8.561</td>\n",
       "    </tr>\n",
       "    <tr>\n",
       "      <th>35037</th>\n",
       "      <td>3.70175</td>\n",
       "      <td>2.473</td>\n",
       "      <td>6.076</td>\n",
       "    </tr>\n",
       "    <tr>\n",
       "      <th>35038</th>\n",
       "      <td>3.66450</td>\n",
       "      <td>3.241</td>\n",
       "      <td>11.797</td>\n",
       "    </tr>\n",
       "    <tr>\n",
       "      <th>35039</th>\n",
       "      <td>3.62725</td>\n",
       "      <td>3.271</td>\n",
       "      <td>16.040</td>\n",
       "    </tr>\n",
       "  </tbody>\n",
       "</table>\n",
       "<p>35040 rows × 3 columns</p>\n",
       "</div>"
      ],
      "text/plain": [
       "       DayAhead   Spot   REBAP\n",
       "0       2.83200  3.688  -4.566\n",
       "1       2.37575  4.245 -13.964\n",
       "2       1.91950  3.161   0.345\n",
       "3       1.46325  1.664   3.048\n",
       "4       1.00700  3.110  -6.679\n",
       "...         ...    ...     ...\n",
       "35035   3.77625  3.342   4.856\n",
       "35036   3.73900  4.425   8.561\n",
       "35037   3.70175  2.473   6.076\n",
       "35038   3.66450  3.241  11.797\n",
       "35039   3.62725  3.271  16.040\n",
       "\n",
       "[35040 rows x 3 columns]"
      ]
     },
     "execution_count": 33,
     "metadata": {},
     "output_type": "execute_result"
    }
   ],
   "source": [
    "# Load powerprice data and format it\n",
    "df_powerprice = pd.read_csv(\"data/PowerPrice.csv\")\n",
    "df_powerprice[\"Time\"] = pd.to_datetime(df_powerprice[\"Time\"], infer_datetime_format=True)\n",
    "df_powerprice = df_powerprice.drop(columns=[\"Time\"])\n",
    "df_powerprice"
   ]
  },
  {
   "cell_type": "code",
   "execution_count": 34,
   "id": "26b7f3ba",
   "metadata": {},
   "outputs": [],
   "source": [
    "# Load spatial data and format it\n",
    "datasets = []\n",
    "for filename in os.listdir(\"data/Spatial\"):\n",
    "    if filename.endswith(\".pickle\"):\n",
    "        with open(os.path.join(\"data/Spatial\", filename), \"rb\") as file:\n",
    "            data = pickle.load(file)\n",
    "            if data.shape == (100, 35040):\n",
    "                datasets.append(data)\n",
    "            else:\n",
    "                print(f\"Skipping {filename}: unexpected shape {data.shape}\")"
   ]
  },
  {
   "cell_type": "code",
   "execution_count": 35,
   "id": "863e02aa",
   "metadata": {},
   "outputs": [
    {
     "data": {
      "text/plain": [
       "(13, 100, 35040)"
      ]
     },
     "execution_count": 35,
     "metadata": {},
     "output_type": "execute_result"
    }
   ],
   "source": [
    "# Convert the list of arrays to a 3D array\n",
    "spatial_data = np.stack(datasets, axis=0)\n",
    "\n",
    "spatial_data = spatial_data.reshape((spatial_data.shape[0], spatial_data.shape[1], spatial_data.shape[2]))\n",
    "\n",
    "# transpose the second and third dimensions to get shape (13, 35040, 100)\n",
    "spatial_data = spatial_data.transpose((0, 1, 2))\n",
    "\n",
    "spatial_data.shape"
   ]
  },
  {
   "cell_type": "code",
   "execution_count": 36,
   "id": "d637fa40",
   "metadata": {},
   "outputs": [
    {
     "data": {
      "text/plain": [
       "(30, 30)"
      ]
     },
     "execution_count": 36,
     "metadata": {},
     "output_type": "execute_result"
    }
   ],
   "source": [
    "# Load mask and reshape to match desired output shape\n",
    "mask = pd.read_csv(\"germany/mask.csv\", header=None).values\n",
    "#mask = mask_df.values.reshape((40, 40, 1))\n",
    "\n",
    "mask.shape"
   ]
  },
  {
   "cell_type": "code",
   "execution_count": 37,
   "id": "d9b3f45c",
   "metadata": {},
   "outputs": [
    {
     "data": {
      "text/plain": [
       "(13, 100, 35040)"
      ]
     },
     "execution_count": 37,
     "metadata": {},
     "output_type": "execute_result"
    }
   ],
   "source": [
    "spatial_data.shape"
   ]
  },
  {
   "cell_type": "code",
   "execution_count": 38,
   "id": "7ecc254a",
   "metadata": {
    "scrolled": false
   },
   "outputs": [],
   "source": [
    "image_all = np.zeros((35040, 30, 30, 13))\n",
    "for j in range(spatial_data.shape[2]):\n",
    "    for i in range(spatial_data.shape[0]):\n",
    "        image = np.zeros((30, 30))\n",
    "        for s in range(spatial_data.shape[1]):\n",
    "            image[mask == s] = spatial_data[i,s,j]\n",
    "        #print(i)\n",
    "        image_all[j, :, :, i] = image"
   ]
  },
  {
   "cell_type": "code",
   "execution_count": 39,
   "id": "b671f36e",
   "metadata": {
    "scrolled": false
   },
   "outputs": [
    {
     "data": {
      "image/png": "[encoded data removed]",
      "text/plain": [
       "<Figure size 640x480 with 1 Axes>"
      ]
     },
     "metadata": {},
     "output_type": "display_data"
    }
   ],
   "source": [
    "plt.imshow(image_all[35030,:,:,4])\n",
    "plt.show()"
   ]
  },
  {
   "cell_type": "code",
   "execution_count": 40,
   "id": "0eaa7de5",
   "metadata": {},
   "outputs": [
    {
     "data": {
      "text/plain": [
       "(35040, 30, 30, 13)"
      ]
     },
     "execution_count": 40,
     "metadata": {},
     "output_type": "execute_result"
    }
   ],
   "source": [
    "image_all.shape"
   ]
  },
  {
   "cell_type": "code",
   "execution_count": null,
   "id": "7e6d28bb",
   "metadata": {},
   "outputs": [],
   "source": []
  },
  {
   "cell_type": "code",
   "execution_count": null,
   "id": "42c1d337",
   "metadata": {},
   "outputs": [],
   "source": []
  },
  {
   "cell_type": "code",
   "execution_count": null,
   "id": "d1f037f7",
   "metadata": {},
   "outputs": [],
   "source": []
  },
  {
   "cell_type": "code",
   "execution_count": null,
   "id": "1745ea1f",
   "metadata": {},
   "outputs": [],
   "source": []
  },
  {
   "cell_type": "code",
   "execution_count": null,
   "id": "d67e2c4d",
   "metadata": {},
   "outputs": [],
   "source": []
  },
  {
   "cell_type": "code",
   "execution_count": 41,
   "id": "bb9abcc4",
   "metadata": {},
   "outputs": [],
   "source": [
    "#input_2 = df_powerprice[\"DayAhead\"].values.reshape((-1, 4))\n",
    "#input_2.shape"
   ]
  },
  {
   "cell_type": "code",
   "execution_count": 42,
   "id": "99932a3b",
   "metadata": {},
   "outputs": [
    {
     "data": {
      "text/plain": [
       "(35036, 1)"
      ]
     },
     "execution_count": 42,
     "metadata": {},
     "output_type": "execute_result"
    }
   ],
   "source": [
    "output = df_powerprice[\"Spot\"][:35036].values\n",
    "\n",
    "scaler = MinMaxScaler()\n",
    "output = scaler.fit_transform(output.reshape(-1, 1))\n",
    "\n",
    "output.shape"
   ]
  },
  {
   "cell_type": "code",
   "execution_count": null,
   "id": "40a207fc",
   "metadata": {},
   "outputs": [],
   "source": []
  },
  {
   "cell_type": "code",
   "execution_count": null,
   "id": "9d6dbc9e",
   "metadata": {},
   "outputs": [],
   "source": []
  },
  {
   "cell_type": "code",
   "execution_count": 43,
   "id": "306b8808",
   "metadata": {},
   "outputs": [],
   "source": [
    "def split_datasets(df, window_size, look_ahead):\n",
    "    X = []\n",
    "    for i in range(len(df)-window_size-look_ahead):\n",
    "        row = df[i:i+window_size,:,:,:]\n",
    "        X.append(row)\n",
    "    return np.array(X)"
   ]
  },
  {
   "cell_type": "code",
   "execution_count": 44,
   "id": "967cbf3e",
   "metadata": {},
   "outputs": [
    {
     "name": "stdout",
     "output_type": "stream",
     "text": [
      "X_train shape : (35036, 4, 30, 30, 13)\n"
     ]
    }
   ],
   "source": [
    "window_size = 4\n",
    "look_ahead = 0\n",
    "input_1 = split_datasets(image_all, window_size=window_size, look_ahead=look_ahead)\n",
    "\n",
    "print(f\"X_train shape : {input_1.shape}\")"
   ]
  },
  {
   "cell_type": "code",
   "execution_count": 45,
   "id": "ed7830a3",
   "metadata": {},
   "outputs": [
    {
     "data": {
      "text/plain": [
       "(35036, 4, 30, 30, 13)"
      ]
     },
     "execution_count": 45,
     "metadata": {},
     "output_type": "execute_result"
    }
   ],
   "source": [
    "# Reshape the input array to a 2D array\n",
    "input_1_2d = input_1.reshape(-1, input_1.shape[-1])\n",
    "\n",
    "# Scale the array using MinMaxScaler\n",
    "scaler = MinMaxScaler()\n",
    "input_1_2d_scaled = scaler.fit_transform(input_1_2d)\n",
    "\n",
    "# Reshape the scaled array back to a 4D array\n",
    "X = input_1_2d_scaled.reshape(input_1.shape)\n",
    "\n",
    "X.shape"
   ]
  },
  {
   "cell_type": "code",
   "execution_count": null,
   "id": "5f6b0c90",
   "metadata": {},
   "outputs": [],
   "source": []
  },
  {
   "cell_type": "code",
   "execution_count": null,
   "id": "64a9cf0f",
   "metadata": {},
   "outputs": [],
   "source": []
  },
  {
   "cell_type": "code",
   "execution_count": 46,
   "id": "88d4d6a2",
   "metadata": {},
   "outputs": [
    {
     "name": "stdout",
     "output_type": "stream",
     "text": [
      "X_train shape: (12262, 4, 30, 30, 13)\n",
      "y_train shape: (12262, 1)\n",
      "X_val shape: (12263, 4, 30, 30, 13)\n",
      "y_val shape: (12263, 1)\n",
      "X_test shape: (10511, 4, 30, 30, 13)\n",
      "y_test shape: (10511, 1)\n"
     ]
    }
   ],
   "source": [
    "X_train, X_test, y_train, y_test = train_test_split(X, output, test_size=0.3, random_state=15)\n",
    "X_train, X_val, y_train, y_val = train_test_split(X_train, y_train, test_size=0.5, random_state=15)\n",
    "\n",
    "print(\"X_train shape:\", X_train.shape)\n",
    "print(\"y_train shape:\", y_train.shape)\n",
    "print(\"X_val shape:\", X_val.shape)\n",
    "print(\"y_val shape:\", y_val.shape)\n",
    "print(\"X_test shape:\", X_test.shape)\n",
    "print(\"y_test shape:\", y_test.shape)"
   ]
  },
  {
   "cell_type": "code",
   "execution_count": null,
   "id": "3fda41ab",
   "metadata": {},
   "outputs": [],
   "source": []
  },
  {
   "cell_type": "code",
   "execution_count": null,
   "id": "5dc4bd0a",
   "metadata": {},
   "outputs": [],
   "source": []
  },
  {
   "cell_type": "code",
   "execution_count": null,
   "id": "fc73be10",
   "metadata": {},
   "outputs": [],
   "source": []
  },
  {
   "cell_type": "code",
   "execution_count": null,
   "id": "6baa2869",
   "metadata": {},
   "outputs": [],
   "source": []
  },
  {
   "cell_type": "code",
   "execution_count": null,
   "id": "e525c930",
   "metadata": {},
   "outputs": [],
   "source": []
  },
  {
   "cell_type": "code",
   "execution_count": null,
   "id": "26fa6673",
   "metadata": {},
   "outputs": [],
   "source": []
  },
  {
   "cell_type": "code",
   "execution_count": 47,
   "id": "d5a49ab2",
   "metadata": {},
   "outputs": [],
   "source": [
    "# Add convolutional layers to reduce the image to a 10-dimensional vector\n",
    "\n",
    "#model.add(Reshape((-1, 30, 30, 13))(X_train.shape))\n",
    "time_steps =4\n",
    "width = 30\n",
    "height = 30\n",
    "channel = 13\n",
    "\n",
    "cnn1 = Conv2D(filters=16,kernel_size=(3,3), activation='relu', input_shape=(30,30, 13))\n",
    "cnn2 = MaxPooling2D(pool_size=(2,2))\n",
    "\n",
    "cnn3 = Conv2D(filters=32,kernel_size=(3,3),activation='relu')\n",
    "\n",
    "cnn4 = MaxPooling2D(pool_size=(2,2))\n",
    "\n",
    "time_series_shape = Input(shape=(time_steps, width, height, channel))\n",
    "\n",
    "fcnn = Dense(10,activation='relu',name='output')\n",
    "\n",
    "lstm = LSTM(1, name='lstm1_1')"
   ]
  },
  {
   "cell_type": "code",
   "execution_count": 48,
   "id": "fd7c2216",
   "metadata": {},
   "outputs": [],
   "source": [
    "#model.add(Conv2D(filters=16, kernel_size=(3,3), activation='relu', input_shape=(30, 30, 13)))\n",
    "\n",
    "model = Sequential()\n",
    "model.add(TimeDistributed(cnn1))\n",
    "model.add(TimeDistributed(cnn2))\n",
    "model.add(TimeDistributed(cnn3))\n",
    "model.add(TimeDistributed(cnn4))\n",
    "\n",
    "model.add(Reshape((-1, 6*6*32)))\n",
    "\n",
    "model.add(TimeDistributed(fcnn))\n",
    "\n",
    "model.add(lstm)\n",
    "\n",
    "#model.add(Flatten())\n",
    "\n",
    "#model.add(Reshape((-1, -1, -1)))\n",
    "\n",
    "## Add an LSTM layer to process the sequential data\n",
    "\n",
    "#model.add(LSTM(units=64, input_shape=(4, 10), return_sequences=False))\n",
    "\n",
    "\n",
    "\n",
    "# Add a dense layer to produce the final output\n",
    "\n",
    "#model.add(Dense(units=1, activation='linear'))"
   ]
  },
  {
   "cell_type": "code",
   "execution_count": 49,
   "id": "360437be",
   "metadata": {},
   "outputs": [],
   "source": [
    "# Compile the model with an appropriate optimizer and loss function\n",
    "\n",
    "model.compile(loss=MeanSquaredError(), optimizer=Adam(learning_rate=0.001), metrics=[RootMeanSquaredError()])"
   ]
  },
  {
   "cell_type": "code",
   "execution_count": 50,
   "id": "b8ee0aa0",
   "metadata": {},
   "outputs": [
    {
     "name": "stdout",
     "output_type": "stream",
     "text": [
      "Model: \"sequential\"\n",
      "_________________________________________________________________\n",
      " Layer (type)                Output Shape              Param #   \n",
      "=================================================================\n",
      " time_distributed (TimeDistr  (12262, 4, 28, 28, 16)   1888      \n",
      " ibuted)                                                         \n",
      "                                                                 \n",
      " time_distributed_1 (TimeDis  (12262, 4, 14, 14, 16)   0         \n",
      " tributed)                                                       \n",
      "                                                                 \n",
      " time_distributed_2 (TimeDis  (12262, 4, 12, 12, 32)   4640      \n",
      " tributed)                                                       \n",
      "                                                                 \n",
      " time_distributed_3 (TimeDis  (12262, 4, 6, 6, 32)     0         \n",
      " tributed)                                                       \n",
      "                                                                 \n",
      " reshape (Reshape)           (12262, 4, 1152)          0         \n",
      "                                                                 \n",
      " time_distributed_4 (TimeDis  (12262, 4, 10)           11530     \n",
      " tributed)                                                       \n",
      "                                                                 \n",
      " lstm1_1 (LSTM)              (12262, 1)                48        \n",
      "                                                                 \n",
      "=================================================================\n",
      "Total params: 18,106\n",
      "Trainable params: 18,106\n",
      "Non-trainable params: 0\n",
      "_________________________________________________________________\n"
     ]
    }
   ],
   "source": [
    "# Print a summary of the model architecture\n",
    "\n",
    "model.build(X_train.shape)\n",
    "\n",
    "model.summary()"
   ]
  },
  {
   "cell_type": "code",
   "execution_count": 51,
   "id": "ede87ff4",
   "metadata": {},
   "outputs": [],
   "source": [
    "# Define callbacks for early stopping and checkpoint saving\n",
    "es = EarlyStopping(monitor='val_loss', patience=20, verbose=1, restore_best_weights=True)"
   ]
  },
  {
   "cell_type": "code",
   "execution_count": 52,
   "id": "dc55f74d",
   "metadata": {},
   "outputs": [],
   "source": [
    "cp = ModelCheckpoint(filepath=\"training/cnn-lstm/\", \n",
    "                      save_best_only=True,\n",
    "                      monitor='val_loss', \n",
    "                      mode='min', \n",
    "                      save_weights_only=False, \n",
    "                      verbose=1)"
   ]
  },
  {
   "cell_type": "code",
   "execution_count": 53,
   "id": "271981ff",
   "metadata": {
    "scrolled": true
   },
   "outputs": [
    {
     "name": "stdout",
     "output_type": "stream",
     "text": [
      "Epoch 1/1000\n",
      "2450/2453 [============================>.] - ETA: 0s - loss: 5.0000e-04 - root_mean_squared_error: 0.0224\n",
      "Epoch 1: val_loss improved from inf to 0.00030, saving model to training/cnn-lstm\\\n"
     ]
    },
    {
     "name": "stderr",
     "output_type": "stream",
     "text": [
      "WARNING:absl:Found untraced functions such as _jit_compiled_convolution_op, _jit_compiled_convolution_op, lstm_cell_layer_call_fn, lstm_cell_layer_call_and_return_conditional_losses while saving (showing 4 of 4). These functions will not be directly callable after loading.\n"
     ]
    },
    {
     "name": "stdout",
     "output_type": "stream",
     "text": [
      "INFO:tensorflow:Assets written to: training/cnn-lstm\\assets\n"
     ]
    },
    {
     "name": "stderr",
     "output_type": "stream",
     "text": [
      "INFO:tensorflow:Assets written to: training/cnn-lstm\\assets\n"
     ]
    },
    {
     "name": "stdout",
     "output_type": "stream",
     "text": [
      "2453/2453 [==============================] - 25s 9ms/step - loss: 5.0068e-04 - root_mean_squared_error: 0.0224 - val_loss: 3.0169e-04 - val_root_mean_squared_error: 0.0174\n",
      "Epoch 2/1000\n",
      "2447/2453 [============================>.] - ETA: 0s - loss: 2.9267e-04 - root_mean_squared_error: 0.0171\n",
      "Epoch 2: val_loss improved from 0.00030 to 0.00026, saving model to training/cnn-lstm\\\n"
     ]
    },
    {
     "name": "stderr",
     "output_type": "stream",
     "text": [
      "WARNING:absl:Found untraced functions such as _jit_compiled_convolution_op, _jit_compiled_convolution_op, lstm_cell_layer_call_fn, lstm_cell_layer_call_and_return_conditional_losses while saving (showing 4 of 4). These functions will not be directly callable after loading.\n"
     ]
    },
    {
     "name": "stdout",
     "output_type": "stream",
     "text": [
      "INFO:tensorflow:Assets written to: training/cnn-lstm\\assets\n"
     ]
    },
    {
     "name": "stderr",
     "output_type": "stream",
     "text": [
      "INFO:tensorflow:Assets written to: training/cnn-lstm\\assets\n"
     ]
    },
    {
     "name": "stdout",
     "output_type": "stream",
     "text": [
      "2453/2453 [==============================] - 20s 8ms/step - loss: 2.9245e-04 - root_mean_squared_error: 0.0171 - val_loss: 2.6235e-04 - val_root_mean_squared_error: 0.0162\n",
      "Epoch 3/1000\n",
      "2437/2453 [============================>.] - ETA: 0s - loss: 2.8125e-04 - root_mean_squared_error: 0.0168\n",
      "Epoch 3: val_loss improved from 0.00026 to 0.00026, saving model to training/cnn-lstm\\\n"
     ]
    },
    {
     "name": "stderr",
     "output_type": "stream",
     "text": [
      "WARNING:absl:Found untraced functions such as _jit_compiled_convolution_op, _jit_compiled_convolution_op, lstm_cell_layer_call_fn, lstm_cell_layer_call_and_return_conditional_losses while saving (showing 4 of 4). These functions will not be directly callable after loading.\n"
     ]
    },
    {
     "name": "stdout",
     "output_type": "stream",
     "text": [
      "INFO:tensorflow:Assets written to: training/cnn-lstm\\assets\n"
     ]
    },
    {
     "name": "stderr",
     "output_type": "stream",
     "text": [
      "INFO:tensorflow:Assets written to: training/cnn-lstm\\assets\n"
     ]
    },
    {
     "name": "stdout",
     "output_type": "stream",
     "text": [
      "2453/2453 [==============================] - 19s 8ms/step - loss: 2.8151e-04 - root_mean_squared_error: 0.0168 - val_loss: 2.5788e-04 - val_root_mean_squared_error: 0.0161\n",
      "Epoch 4/1000\n",
      "2443/2453 [============================>.] - ETA: 0s - loss: 2.6866e-04 - root_mean_squared_error: 0.0164\n",
      "Epoch 4: val_loss did not improve from 0.00026\n",
      "2453/2453 [==============================] - 13s 5ms/step - loss: 2.6813e-04 - root_mean_squared_error: 0.0164 - val_loss: 2.5973e-04 - val_root_mean_squared_error: 0.0161\n",
      "Epoch 5/1000\n",
      "2438/2453 [============================>.] - ETA: 0s - loss: 2.6326e-04 - root_mean_squared_error: 0.0162\n",
      "Epoch 5: val_loss improved from 0.00026 to 0.00024, saving model to training/cnn-lstm\\\n"
     ]
    },
    {
     "name": "stderr",
     "output_type": "stream",
     "text": [
      "WARNING:absl:Found untraced functions such as _jit_compiled_convolution_op, _jit_compiled_convolution_op, lstm_cell_layer_call_fn, lstm_cell_layer_call_and_return_conditional_losses while saving (showing 4 of 4). These functions will not be directly callable after loading.\n"
     ]
    },
    {
     "name": "stdout",
     "output_type": "stream",
     "text": [
      "INFO:tensorflow:Assets written to: training/cnn-lstm\\assets\n"
     ]
    },
    {
     "name": "stderr",
     "output_type": "stream",
     "text": [
      "INFO:tensorflow:Assets written to: training/cnn-lstm\\assets\n"
     ]
    },
    {
     "name": "stdout",
     "output_type": "stream",
     "text": [
      "2453/2453 [==============================] - 19s 8ms/step - loss: 2.6248e-04 - root_mean_squared_error: 0.0162 - val_loss: 2.3523e-04 - val_root_mean_squared_error: 0.0153\n",
      "Epoch 6/1000\n",
      "2440/2453 [============================>.] - ETA: 0s - loss: 2.4730e-04 - root_mean_squared_error: 0.0157\n",
      "Epoch 6: val_loss did not improve from 0.00024\n",
      "2453/2453 [==============================] - 12s 5ms/step - loss: 2.4738e-04 - root_mean_squared_error: 0.0157 - val_loss: 2.8199e-04 - val_root_mean_squared_error: 0.0168\n",
      "Epoch 7/1000\n",
      "2446/2453 [============================>.] - ETA: 0s - loss: 2.4352e-04 - root_mean_squared_error: 0.0156\n",
      "Epoch 7: val_loss did not improve from 0.00024\n",
      "2453/2453 [==============================] - 12s 5ms/step - loss: 2.4306e-04 - root_mean_squared_error: 0.0156 - val_loss: 2.7551e-04 - val_root_mean_squared_error: 0.0166\n",
      "Epoch 8/1000\n",
      "2442/2453 [============================>.] - ETA: 0s - loss: 2.3362e-04 - root_mean_squared_error: 0.0153\n",
      "Epoch 8: val_loss improved from 0.00024 to 0.00021, saving model to training/cnn-lstm\\\n"
     ]
    },
    {
     "name": "stderr",
     "output_type": "stream",
     "text": [
      "WARNING:absl:Found untraced functions such as _jit_compiled_convolution_op, _jit_compiled_convolution_op, lstm_cell_layer_call_fn, lstm_cell_layer_call_and_return_conditional_losses while saving (showing 4 of 4). These functions will not be directly callable after loading.\n"
     ]
    },
    {
     "name": "stdout",
     "output_type": "stream",
     "text": [
      "INFO:tensorflow:Assets written to: training/cnn-lstm\\assets\n"
     ]
    },
    {
     "name": "stderr",
     "output_type": "stream",
     "text": [
      "INFO:tensorflow:Assets written to: training/cnn-lstm\\assets\n"
     ]
    },
    {
     "name": "stdout",
     "output_type": "stream",
     "text": [
      "2453/2453 [==============================] - 19s 8ms/step - loss: 2.3332e-04 - root_mean_squared_error: 0.0153 - val_loss: 2.0942e-04 - val_root_mean_squared_error: 0.0145\n",
      "Epoch 9/1000\n",
      "2447/2453 [============================>.] - ETA: 0s - loss: 2.2256e-04 - root_mean_squared_error: 0.0149\n",
      "Epoch 9: val_loss did not improve from 0.00021\n",
      "2453/2453 [==============================] - 12s 5ms/step - loss: 2.2221e-04 - root_mean_squared_error: 0.0149 - val_loss: 2.2688e-04 - val_root_mean_squared_error: 0.0151\n",
      "Epoch 10/1000\n",
      "2450/2453 [============================>.] - ETA: 0s - loss: 2.2062e-04 - root_mean_squared_error: 0.0149\n",
      "Epoch 10: val_loss improved from 0.00021 to 0.00021, saving model to training/cnn-lstm\\\n"
     ]
    },
    {
     "name": "stderr",
     "output_type": "stream",
     "text": [
      "WARNING:absl:Found untraced functions such as _jit_compiled_convolution_op, _jit_compiled_convolution_op, lstm_cell_layer_call_fn, lstm_cell_layer_call_and_return_conditional_losses while saving (showing 4 of 4). These functions will not be directly callable after loading.\n"
     ]
    },
    {
     "name": "stdout",
     "output_type": "stream",
     "text": [
      "INFO:tensorflow:Assets written to: training/cnn-lstm\\assets\n"
     ]
    },
    {
     "name": "stderr",
     "output_type": "stream",
     "text": [
      "INFO:tensorflow:Assets written to: training/cnn-lstm\\assets\n"
     ]
    },
    {
     "name": "stdout",
     "output_type": "stream",
     "text": [
      "2453/2453 [==============================] - 20s 8ms/step - loss: 2.2053e-04 - root_mean_squared_error: 0.0149 - val_loss: 2.0644e-04 - val_root_mean_squared_error: 0.0144\n",
      "Epoch 11/1000\n",
      "2445/2453 [============================>.] - ETA: 0s - loss: 2.1224e-04 - root_mean_squared_error: 0.0146\n",
      "Epoch 11: val_loss did not improve from 0.00021\n",
      "2453/2453 [==============================] - 12s 5ms/step - loss: 2.1224e-04 - root_mean_squared_error: 0.0146 - val_loss: 2.2017e-04 - val_root_mean_squared_error: 0.0148\n",
      "Epoch 12/1000\n",
      "2444/2453 [============================>.] - ETA: 0s - loss: 2.0314e-04 - root_mean_squared_error: 0.0143\n",
      "Epoch 12: val_loss did not improve from 0.00021\n",
      "2453/2453 [==============================] - 13s 5ms/step - loss: 2.0282e-04 - root_mean_squared_error: 0.0142 - val_loss: 2.1133e-04 - val_root_mean_squared_error: 0.0145\n",
      "Epoch 13/1000\n",
      "2443/2453 [============================>.] - ETA: 0s - loss: 1.9509e-04 - root_mean_squared_error: 0.0140\n",
      "Epoch 13: val_loss did not improve from 0.00021\n",
      "2453/2453 [==============================] - 12s 5ms/step - loss: 1.9479e-04 - root_mean_squared_error: 0.0140 - val_loss: 2.0665e-04 - val_root_mean_squared_error: 0.0144\n",
      "Epoch 14/1000\n",
      "2439/2453 [============================>.] - ETA: 0s - loss: 1.9386e-04 - root_mean_squared_error: 0.0139\n",
      "Epoch 14: val_loss did not improve from 0.00021\n",
      "2453/2453 [==============================] - 11s 5ms/step - loss: 1.9380e-04 - root_mean_squared_error: 0.0139 - val_loss: 2.6050e-04 - val_root_mean_squared_error: 0.0161\n",
      "Epoch 15/1000\n",
      "2446/2453 [============================>.] - ETA: 0s - loss: 1.9333e-04 - root_mean_squared_error: 0.0139\n",
      "Epoch 15: val_loss improved from 0.00021 to 0.00020, saving model to training/cnn-lstm\\\n"
     ]
    },
    {
     "name": "stderr",
     "output_type": "stream",
     "text": [
      "WARNING:absl:Found untraced functions such as _jit_compiled_convolution_op, _jit_compiled_convolution_op, lstm_cell_layer_call_fn, lstm_cell_layer_call_and_return_conditional_losses while saving (showing 4 of 4). These functions will not be directly callable after loading.\n"
     ]
    },
    {
     "name": "stdout",
     "output_type": "stream",
     "text": [
      "INFO:tensorflow:Assets written to: training/cnn-lstm\\assets\n"
     ]
    },
    {
     "name": "stderr",
     "output_type": "stream",
     "text": [
      "INFO:tensorflow:Assets written to: training/cnn-lstm\\assets\n"
     ]
    },
    {
     "name": "stdout",
     "output_type": "stream",
     "text": [
      "2453/2453 [==============================] - 19s 8ms/step - loss: 1.9319e-04 - root_mean_squared_error: 0.0139 - val_loss: 2.0133e-04 - val_root_mean_squared_error: 0.0142\n",
      "Epoch 16/1000\n",
      "2441/2453 [============================>.] - ETA: 0s - loss: 1.8382e-04 - root_mean_squared_error: 0.0136\n",
      "Epoch 16: val_loss improved from 0.00020 to 0.00019, saving model to training/cnn-lstm\\\n"
     ]
    },
    {
     "name": "stderr",
     "output_type": "stream",
     "text": [
      "WARNING:absl:Found untraced functions such as _jit_compiled_convolution_op, _jit_compiled_convolution_op, lstm_cell_layer_call_fn, lstm_cell_layer_call_and_return_conditional_losses while saving (showing 4 of 4). These functions will not be directly callable after loading.\n"
     ]
    },
    {
     "name": "stdout",
     "output_type": "stream",
     "text": [
      "INFO:tensorflow:Assets written to: training/cnn-lstm\\assets\n"
     ]
    },
    {
     "name": "stderr",
     "output_type": "stream",
     "text": [
      "INFO:tensorflow:Assets written to: training/cnn-lstm\\assets\n"
     ]
    },
    {
     "name": "stdout",
     "output_type": "stream",
     "text": [
      "2453/2453 [==============================] - 18s 7ms/step - loss: 1.8332e-04 - root_mean_squared_error: 0.0135 - val_loss: 1.8721e-04 - val_root_mean_squared_error: 0.0137\n",
      "Epoch 17/1000\n",
      "2440/2453 [============================>.] - ETA: 0s - loss: 1.8927e-04 - root_mean_squared_error: 0.0138\n",
      "Epoch 17: val_loss did not improve from 0.00019\n",
      "2453/2453 [==============================] - 12s 5ms/step - loss: 1.8879e-04 - root_mean_squared_error: 0.0137 - val_loss: 1.9512e-04 - val_root_mean_squared_error: 0.0140\n",
      "Epoch 18/1000\n",
      "2437/2453 [============================>.] - ETA: 0s - loss: 1.6703e-04 - root_mean_squared_error: 0.0129\n",
      "Epoch 18: val_loss did not improve from 0.00019\n",
      "2453/2453 [==============================] - 12s 5ms/step - loss: 1.6660e-04 - root_mean_squared_error: 0.0129 - val_loss: 2.1741e-04 - val_root_mean_squared_error: 0.0147\n",
      "Epoch 19/1000\n",
      "2447/2453 [============================>.] - ETA: 0s - loss: 1.7562e-04 - root_mean_squared_error: 0.0133\n",
      "Epoch 19: val_loss did not improve from 0.00019\n",
      "2453/2453 [==============================] - 12s 5ms/step - loss: 1.7598e-04 - root_mean_squared_error: 0.0133 - val_loss: 2.0473e-04 - val_root_mean_squared_error: 0.0143\n",
      "Epoch 20/1000\n",
      "2440/2453 [============================>.] - ETA: 0s - loss: 1.6517e-04 - root_mean_squared_error: 0.0129\n",
      "Epoch 20: val_loss did not improve from 0.00019\n",
      "2453/2453 [==============================] - 12s 5ms/step - loss: 1.6553e-04 - root_mean_squared_error: 0.0129 - val_loss: 2.5616e-04 - val_root_mean_squared_error: 0.0160\n",
      "Epoch 21/1000\n",
      "2447/2453 [============================>.] - ETA: 0s - loss: 1.6601e-04 - root_mean_squared_error: 0.0129\n",
      "Epoch 21: val_loss did not improve from 0.00019\n",
      "2453/2453 [==============================] - 11s 5ms/step - loss: 1.6578e-04 - root_mean_squared_error: 0.0129 - val_loss: 1.8948e-04 - val_root_mean_squared_error: 0.0138\n",
      "Epoch 22/1000\n",
      "2445/2453 [============================>.] - ETA: 0s - loss: 1.7692e-04 - root_mean_squared_error: 0.0133\n",
      "Epoch 22: val_loss improved from 0.00019 to 0.00018, saving model to training/cnn-lstm\\\n"
     ]
    },
    {
     "name": "stderr",
     "output_type": "stream",
     "text": [
      "WARNING:absl:Found untraced functions such as _jit_compiled_convolution_op, _jit_compiled_convolution_op, lstm_cell_layer_call_fn, lstm_cell_layer_call_and_return_conditional_losses while saving (showing 4 of 4). These functions will not be directly callable after loading.\n"
     ]
    },
    {
     "name": "stdout",
     "output_type": "stream",
     "text": [
      "INFO:tensorflow:Assets written to: training/cnn-lstm\\assets\n"
     ]
    },
    {
     "name": "stderr",
     "output_type": "stream",
     "text": [
      "INFO:tensorflow:Assets written to: training/cnn-lstm\\assets\n"
     ]
    },
    {
     "name": "stdout",
     "output_type": "stream",
     "text": [
      "2453/2453 [==============================] - 18s 7ms/step - loss: 1.7664e-04 - root_mean_squared_error: 0.0133 - val_loss: 1.8022e-04 - val_root_mean_squared_error: 0.0134\n",
      "Epoch 23/1000\n",
      "2452/2453 [============================>.] - ETA: 0s - loss: 1.6518e-04 - root_mean_squared_error: 0.0129\n",
      "Epoch 23: val_loss did not improve from 0.00018\n",
      "2453/2453 [==============================] - 13s 5ms/step - loss: 1.6516e-04 - root_mean_squared_error: 0.0129 - val_loss: 2.4270e-04 - val_root_mean_squared_error: 0.0156\n",
      "Epoch 24/1000\n",
      "2442/2453 [============================>.] - ETA: 0s - loss: 1.5467e-04 - root_mean_squared_error: 0.0124\n",
      "Epoch 24: val_loss improved from 0.00018 to 0.00018, saving model to training/cnn-lstm\\\n"
     ]
    },
    {
     "name": "stderr",
     "output_type": "stream",
     "text": [
      "WARNING:absl:Found untraced functions such as _jit_compiled_convolution_op, _jit_compiled_convolution_op, lstm_cell_layer_call_fn, lstm_cell_layer_call_and_return_conditional_losses while saving (showing 4 of 4). These functions will not be directly callable after loading.\n"
     ]
    },
    {
     "name": "stdout",
     "output_type": "stream",
     "text": [
      "INFO:tensorflow:Assets written to: training/cnn-lstm\\assets\n"
     ]
    },
    {
     "name": "stderr",
     "output_type": "stream",
     "text": [
      "INFO:tensorflow:Assets written to: training/cnn-lstm\\assets\n"
     ]
    },
    {
     "name": "stdout",
     "output_type": "stream",
     "text": [
      "2453/2453 [==============================] - 18s 7ms/step - loss: 1.5440e-04 - root_mean_squared_error: 0.0124 - val_loss: 1.7893e-04 - val_root_mean_squared_error: 0.0134\n",
      "Epoch 25/1000\n",
      "2442/2453 [============================>.] - ETA: 0s - loss: 1.5475e-04 - root_mean_squared_error: 0.0124\n",
      "Epoch 25: val_loss did not improve from 0.00018\n",
      "2453/2453 [==============================] - 12s 5ms/step - loss: 1.5466e-04 - root_mean_squared_error: 0.0124 - val_loss: 2.1676e-04 - val_root_mean_squared_error: 0.0147\n",
      "Epoch 26/1000\n",
      "2443/2453 [============================>.] - ETA: 0s - loss: 1.5712e-04 - root_mean_squared_error: 0.0125\n",
      "Epoch 26: val_loss did not improve from 0.00018\n",
      "2453/2453 [==============================] - 11s 4ms/step - loss: 1.5729e-04 - root_mean_squared_error: 0.0125 - val_loss: 2.0227e-04 - val_root_mean_squared_error: 0.0142\n",
      "Epoch 27/1000\n",
      "2443/2453 [============================>.] - ETA: 0s - loss: 1.5134e-04 - root_mean_squared_error: 0.0123\n",
      "Epoch 27: val_loss did not improve from 0.00018\n",
      "2453/2453 [==============================] - 11s 4ms/step - loss: 1.5125e-04 - root_mean_squared_error: 0.0123 - val_loss: 2.0735e-04 - val_root_mean_squared_error: 0.0144\n",
      "Epoch 28/1000\n",
      "2442/2453 [============================>.] - ETA: 0s - loss: 1.5712e-04 - root_mean_squared_error: 0.0125\n",
      "Epoch 28: val_loss did not improve from 0.00018\n",
      "2453/2453 [==============================] - 11s 4ms/step - loss: 1.5704e-04 - root_mean_squared_error: 0.0125 - val_loss: 2.1221e-04 - val_root_mean_squared_error: 0.0146\n",
      "Epoch 29/1000\n",
      "2449/2453 [============================>.] - ETA: 0s - loss: 1.6355e-04 - root_mean_squared_error: 0.0128\n",
      "Epoch 29: val_loss did not improve from 0.00018\n",
      "2453/2453 [==============================] - 12s 5ms/step - loss: 1.6399e-04 - root_mean_squared_error: 0.0128 - val_loss: 2.0041e-04 - val_root_mean_squared_error: 0.0142\n",
      "Epoch 30/1000\n",
      "2439/2453 [============================>.] - ETA: 0s - loss: 1.4432e-04 - root_mean_squared_error: 0.0120\n",
      "Epoch 30: val_loss did not improve from 0.00018\n",
      "2453/2453 [==============================] - 11s 4ms/step - loss: 1.4404e-04 - root_mean_squared_error: 0.0120 - val_loss: 1.7950e-04 - val_root_mean_squared_error: 0.0134\n",
      "Epoch 31/1000\n",
      "2444/2453 [============================>.] - ETA: 0s - loss: 1.3744e-04 - root_mean_squared_error: 0.0117\n",
      "Epoch 31: val_loss did not improve from 0.00018\n",
      "2453/2453 [==============================] - 11s 4ms/step - loss: 1.3754e-04 - root_mean_squared_error: 0.0117 - val_loss: 1.9467e-04 - val_root_mean_squared_error: 0.0140\n",
      "Epoch 32/1000\n",
      "2453/2453 [==============================] - ETA: 0s - loss: 1.3478e-04 - root_mean_squared_error: 0.0116\n",
      "Epoch 32: val_loss improved from 0.00018 to 0.00017, saving model to training/cnn-lstm\\\n"
     ]
    },
    {
     "name": "stderr",
     "output_type": "stream",
     "text": [
      "WARNING:absl:Found untraced functions such as _jit_compiled_convolution_op, _jit_compiled_convolution_op, lstm_cell_layer_call_fn, lstm_cell_layer_call_and_return_conditional_losses while saving (showing 4 of 4). These functions will not be directly callable after loading.\n"
     ]
    },
    {
     "name": "stdout",
     "output_type": "stream",
     "text": [
      "INFO:tensorflow:Assets written to: training/cnn-lstm\\assets\n"
     ]
    },
    {
     "name": "stderr",
     "output_type": "stream",
     "text": [
      "INFO:tensorflow:Assets written to: training/cnn-lstm\\assets\n"
     ]
    },
    {
     "name": "stdout",
     "output_type": "stream",
     "text": [
      "2453/2453 [==============================] - 17s 7ms/step - loss: 1.3478e-04 - root_mean_squared_error: 0.0116 - val_loss: 1.7355e-04 - val_root_mean_squared_error: 0.0132\n",
      "Epoch 33/1000\n",
      "2450/2453 [============================>.] - ETA: 0s - loss: 1.4065e-04 - root_mean_squared_error: 0.0119\n",
      "Epoch 33: val_loss did not improve from 0.00017\n",
      "2453/2453 [==============================] - 12s 5ms/step - loss: 1.4054e-04 - root_mean_squared_error: 0.0119 - val_loss: 1.7728e-04 - val_root_mean_squared_error: 0.0133\n",
      "Epoch 34/1000\n",
      "2448/2453 [============================>.] - ETA: 0s - loss: 1.4078e-04 - root_mean_squared_error: 0.0119\n",
      "Epoch 34: val_loss improved from 0.00017 to 0.00017, saving model to training/cnn-lstm\\\n"
     ]
    },
    {
     "name": "stderr",
     "output_type": "stream",
     "text": [
      "WARNING:absl:Found untraced functions such as _jit_compiled_convolution_op, _jit_compiled_convolution_op, lstm_cell_layer_call_fn, lstm_cell_layer_call_and_return_conditional_losses while saving (showing 4 of 4). These functions will not be directly callable after loading.\n"
     ]
    },
    {
     "name": "stdout",
     "output_type": "stream",
     "text": [
      "INFO:tensorflow:Assets written to: training/cnn-lstm\\assets\n"
     ]
    },
    {
     "name": "stderr",
     "output_type": "stream",
     "text": [
      "INFO:tensorflow:Assets written to: training/cnn-lstm\\assets\n"
     ]
    },
    {
     "name": "stdout",
     "output_type": "stream",
     "text": [
      "2453/2453 [==============================] - 18s 7ms/step - loss: 1.4064e-04 - root_mean_squared_error: 0.0119 - val_loss: 1.6626e-04 - val_root_mean_squared_error: 0.0129\n",
      "Epoch 35/1000\n",
      "2450/2453 [============================>.] - ETA: 0s - loss: 1.3114e-04 - root_mean_squared_error: 0.0115\n",
      "Epoch 35: val_loss did not improve from 0.00017\n",
      "2453/2453 [==============================] - 11s 4ms/step - loss: 1.3130e-04 - root_mean_squared_error: 0.0115 - val_loss: 1.7699e-04 - val_root_mean_squared_error: 0.0133\n",
      "Epoch 36/1000\n",
      "2439/2453 [============================>.] - ETA: 0s - loss: 1.2742e-04 - root_mean_squared_error: 0.0113\n",
      "Epoch 36: val_loss did not improve from 0.00017\n",
      "2453/2453 [==============================] - 11s 5ms/step - loss: 1.2712e-04 - root_mean_squared_error: 0.0113 - val_loss: 1.7268e-04 - val_root_mean_squared_error: 0.0131\n",
      "Epoch 37/1000\n",
      "2438/2453 [============================>.] - ETA: 0s - loss: 1.3292e-04 - root_mean_squared_error: 0.0115\n",
      "Epoch 37: val_loss did not improve from 0.00017\n",
      "2453/2453 [==============================] - 11s 4ms/step - loss: 1.3321e-04 - root_mean_squared_error: 0.0115 - val_loss: 2.0299e-04 - val_root_mean_squared_error: 0.0142\n",
      "Epoch 38/1000\n",
      "2449/2453 [============================>.] - ETA: 0s - loss: 1.2668e-04 - root_mean_squared_error: 0.0113\n",
      "Epoch 38: val_loss did not improve from 0.00017\n",
      "2453/2453 [==============================] - 12s 5ms/step - loss: 1.2672e-04 - root_mean_squared_error: 0.0113 - val_loss: 1.9064e-04 - val_root_mean_squared_error: 0.0138\n",
      "Epoch 39/1000\n",
      "2448/2453 [============================>.] - ETA: 0s - loss: 1.3472e-04 - root_mean_squared_error: 0.0116\n",
      "Epoch 39: val_loss did not improve from 0.00017\n",
      "2453/2453 [==============================] - 11s 5ms/step - loss: 1.3459e-04 - root_mean_squared_error: 0.0116 - val_loss: 1.9308e-04 - val_root_mean_squared_error: 0.0139\n",
      "Epoch 40/1000\n",
      "2444/2453 [============================>.] - ETA: 0s - loss: 1.3257e-04 - root_mean_squared_error: 0.0115\n",
      "Epoch 40: val_loss did not improve from 0.00017\n",
      "2453/2453 [==============================] - 13s 5ms/step - loss: 1.3242e-04 - root_mean_squared_error: 0.0115 - val_loss: 1.6982e-04 - val_root_mean_squared_error: 0.0130\n",
      "Epoch 41/1000\n",
      "2446/2453 [============================>.] - ETA: 0s - loss: 1.1896e-04 - root_mean_squared_error: 0.0109\n",
      "Epoch 41: val_loss did not improve from 0.00017\n",
      "2453/2453 [==============================] - 12s 5ms/step - loss: 1.1894e-04 - root_mean_squared_error: 0.0109 - val_loss: 1.7027e-04 - val_root_mean_squared_error: 0.0130\n",
      "Epoch 42/1000\n",
      "2438/2453 [============================>.] - ETA: 0s - loss: 1.2675e-04 - root_mean_squared_error: 0.0113\n",
      "Epoch 42: val_loss did not improve from 0.00017\n",
      "2453/2453 [==============================] - 12s 5ms/step - loss: 1.2642e-04 - root_mean_squared_error: 0.0112 - val_loss: 1.8558e-04 - val_root_mean_squared_error: 0.0136\n",
      "Epoch 43/1000\n",
      "2452/2453 [============================>.] - ETA: 0s - loss: 1.1979e-04 - root_mean_squared_error: 0.0109\n",
      "Epoch 43: val_loss did not improve from 0.00017\n",
      "2453/2453 [==============================] - 12s 5ms/step - loss: 1.1977e-04 - root_mean_squared_error: 0.0109 - val_loss: 1.8247e-04 - val_root_mean_squared_error: 0.0135\n",
      "Epoch 44/1000\n",
      "2452/2453 [============================>.] - ETA: 0s - loss: 1.1928e-04 - root_mean_squared_error: 0.0109\n",
      "Epoch 44: val_loss did not improve from 0.00017\n",
      "2453/2453 [==============================] - 14s 6ms/step - loss: 1.1926e-04 - root_mean_squared_error: 0.0109 - val_loss: 1.8552e-04 - val_root_mean_squared_error: 0.0136\n",
      "Epoch 45/1000\n",
      "2445/2453 [============================>.] - ETA: 0s - loss: 1.2020e-04 - root_mean_squared_error: 0.0110\n",
      "Epoch 45: val_loss improved from 0.00017 to 0.00016, saving model to training/cnn-lstm\\\n"
     ]
    },
    {
     "name": "stderr",
     "output_type": "stream",
     "text": [
      "WARNING:absl:Found untraced functions such as _jit_compiled_convolution_op, _jit_compiled_convolution_op, lstm_cell_layer_call_fn, lstm_cell_layer_call_and_return_conditional_losses while saving (showing 4 of 4). These functions will not be directly callable after loading.\n"
     ]
    },
    {
     "name": "stdout",
     "output_type": "stream",
     "text": [
      "INFO:tensorflow:Assets written to: training/cnn-lstm\\assets\n"
     ]
    },
    {
     "name": "stderr",
     "output_type": "stream",
     "text": [
      "INFO:tensorflow:Assets written to: training/cnn-lstm\\assets\n"
     ]
    },
    {
     "name": "stdout",
     "output_type": "stream",
     "text": [
      "2453/2453 [==============================] - 18s 7ms/step - loss: 1.2039e-04 - root_mean_squared_error: 0.0110 - val_loss: 1.6209e-04 - val_root_mean_squared_error: 0.0127\n",
      "Epoch 46/1000\n",
      "2446/2453 [============================>.] - ETA: 0s - loss: 1.1898e-04 - root_mean_squared_error: 0.0109\n",
      "Epoch 46: val_loss did not improve from 0.00016\n",
      "2453/2453 [==============================] - 13s 5ms/step - loss: 1.1909e-04 - root_mean_squared_error: 0.0109 - val_loss: 1.8876e-04 - val_root_mean_squared_error: 0.0137\n",
      "Epoch 47/1000\n",
      "2449/2453 [============================>.] - ETA: 0s - loss: 1.2347e-04 - root_mean_squared_error: 0.0111\n",
      "Epoch 47: val_loss did not improve from 0.00016\n",
      "2453/2453 [==============================] - 13s 5ms/step - loss: 1.2341e-04 - root_mean_squared_error: 0.0111 - val_loss: 1.9711e-04 - val_root_mean_squared_error: 0.0140\n",
      "Epoch 48/1000\n",
      "2445/2453 [============================>.] - ETA: 0s - loss: 2.9913e-04 - root_mean_squared_error: 0.0173\n",
      "Epoch 48: val_loss did not improve from 0.00016\n",
      "2453/2453 [==============================] - 12s 5ms/step - loss: 2.9852e-04 - root_mean_squared_error: 0.0173 - val_loss: 2.0271e-04 - val_root_mean_squared_error: 0.0142\n",
      "Epoch 49/1000\n",
      "2439/2453 [============================>.] - ETA: 0s - loss: 1.5100e-04 - root_mean_squared_error: 0.0123\n",
      "Epoch 49: val_loss did not improve from 0.00016\n",
      "2453/2453 [==============================] - 11s 5ms/step - loss: 1.5092e-04 - root_mean_squared_error: 0.0123 - val_loss: 1.8124e-04 - val_root_mean_squared_error: 0.0135\n",
      "Epoch 50/1000\n",
      "2451/2453 [============================>.] - ETA: 0s - loss: 1.0637e-04 - root_mean_squared_error: 0.0103\n",
      "Epoch 50: val_loss did not improve from 0.00016\n",
      "2453/2453 [==============================] - 11s 5ms/step - loss: 1.0632e-04 - root_mean_squared_error: 0.0103 - val_loss: 1.7524e-04 - val_root_mean_squared_error: 0.0132\n",
      "Epoch 51/1000\n",
      "2451/2453 [============================>.] - ETA: 0s - loss: 1.0811e-04 - root_mean_squared_error: 0.0104\n",
      "Epoch 51: val_loss did not improve from 0.00016\n",
      "2453/2453 [==============================] - 11s 5ms/step - loss: 1.0813e-04 - root_mean_squared_error: 0.0104 - val_loss: 1.9037e-04 - val_root_mean_squared_error: 0.0138\n",
      "Epoch 52/1000\n",
      "2441/2453 [============================>.] - ETA: 0s - loss: 1.1195e-04 - root_mean_squared_error: 0.0106\n",
      "Epoch 52: val_loss did not improve from 0.00016\n",
      "2453/2453 [==============================] - 11s 5ms/step - loss: 1.1206e-04 - root_mean_squared_error: 0.0106 - val_loss: 1.8264e-04 - val_root_mean_squared_error: 0.0135\n",
      "Epoch 53/1000\n",
      "2447/2453 [============================>.] - ETA: 0s - loss: 1.0967e-04 - root_mean_squared_error: 0.0105\n",
      "Epoch 53: val_loss did not improve from 0.00016\n",
      "2453/2453 [==============================] - 11s 5ms/step - loss: 1.0969e-04 - root_mean_squared_error: 0.0105 - val_loss: 1.7723e-04 - val_root_mean_squared_error: 0.0133\n",
      "Epoch 54/1000\n",
      "2436/2453 [============================>.] - ETA: 0s - loss: 1.1555e-04 - root_mean_squared_error: 0.0107\n",
      "Epoch 54: val_loss did not improve from 0.00016\n",
      "2453/2453 [==============================] - 11s 4ms/step - loss: 1.1556e-04 - root_mean_squared_error: 0.0107 - val_loss: 1.7609e-04 - val_root_mean_squared_error: 0.0133\n",
      "Epoch 55/1000\n",
      "2448/2453 [============================>.] - ETA: 0s - loss: 1.1558e-04 - root_mean_squared_error: 0.0108\n",
      "Epoch 55: val_loss did not improve from 0.00016\n",
      "2453/2453 [==============================] - 11s 5ms/step - loss: 1.1574e-04 - root_mean_squared_error: 0.0108 - val_loss: 1.8493e-04 - val_root_mean_squared_error: 0.0136\n",
      "Epoch 56/1000\n",
      "2444/2453 [============================>.] - ETA: 0s - loss: 1.0651e-04 - root_mean_squared_error: 0.0103\n",
      "Epoch 56: val_loss did not improve from 0.00016\n",
      "2453/2453 [==============================] - 11s 5ms/step - loss: 1.0647e-04 - root_mean_squared_error: 0.0103 - val_loss: 1.8569e-04 - val_root_mean_squared_error: 0.0136\n",
      "Epoch 57/1000\n",
      "2440/2453 [============================>.] - ETA: 0s - loss: 1.0983e-04 - root_mean_squared_error: 0.0105\n",
      "Epoch 57: val_loss did not improve from 0.00016\n",
      "2453/2453 [==============================] - 11s 5ms/step - loss: 1.0999e-04 - root_mean_squared_error: 0.0105 - val_loss: 1.6799e-04 - val_root_mean_squared_error: 0.0130\n",
      "Epoch 58/1000\n",
      "2446/2453 [============================>.] - ETA: 0s - loss: 1.1160e-04 - root_mean_squared_error: 0.0106\n",
      "Epoch 58: val_loss did not improve from 0.00016\n",
      "2453/2453 [==============================] - 12s 5ms/step - loss: 1.1154e-04 - root_mean_squared_error: 0.0106 - val_loss: 1.8413e-04 - val_root_mean_squared_error: 0.0136\n",
      "Epoch 59/1000\n",
      "2445/2453 [============================>.] - ETA: 0s - loss: 1.2524e-04 - root_mean_squared_error: 0.0112\n",
      "Epoch 59: val_loss did not improve from 0.00016\n",
      "2453/2453 [==============================] - 11s 5ms/step - loss: 1.2519e-04 - root_mean_squared_error: 0.0112 - val_loss: 1.9425e-04 - val_root_mean_squared_error: 0.0139\n",
      "Epoch 60/1000\n",
      "2444/2453 [============================>.] - ETA: 0s - loss: 1.2373e-04 - root_mean_squared_error: 0.0111\n",
      "Epoch 60: val_loss did not improve from 0.00016\n",
      "2453/2453 [==============================] - 12s 5ms/step - loss: 1.2358e-04 - root_mean_squared_error: 0.0111 - val_loss: 1.7308e-04 - val_root_mean_squared_error: 0.0132\n",
      "Epoch 61/1000\n",
      "2441/2453 [============================>.] - ETA: 0s - loss: 1.0165e-04 - root_mean_squared_error: 0.0101\n",
      "Epoch 61: val_loss did not improve from 0.00016\n",
      "2453/2453 [==============================] - 12s 5ms/step - loss: 1.0153e-04 - root_mean_squared_error: 0.0101 - val_loss: 1.8509e-04 - val_root_mean_squared_error: 0.0136\n",
      "Epoch 62/1000\n",
      "2445/2453 [============================>.] - ETA: 0s - loss: 1.1295e-04 - root_mean_squared_error: 0.0106\n",
      "Epoch 62: val_loss improved from 0.00016 to 0.00016, saving model to training/cnn-lstm\\\n"
     ]
    },
    {
     "name": "stderr",
     "output_type": "stream",
     "text": [
      "WARNING:absl:Found untraced functions such as _jit_compiled_convolution_op, _jit_compiled_convolution_op, lstm_cell_layer_call_fn, lstm_cell_layer_call_and_return_conditional_losses while saving (showing 4 of 4). These functions will not be directly callable after loading.\n"
     ]
    },
    {
     "name": "stdout",
     "output_type": "stream",
     "text": [
      "INFO:tensorflow:Assets written to: training/cnn-lstm\\assets\n"
     ]
    },
    {
     "name": "stderr",
     "output_type": "stream",
     "text": [
      "INFO:tensorflow:Assets written to: training/cnn-lstm\\assets\n"
     ]
    },
    {
     "name": "stdout",
     "output_type": "stream",
     "text": [
      "2453/2453 [==============================] - 18s 7ms/step - loss: 1.1305e-04 - root_mean_squared_error: 0.0106 - val_loss: 1.5848e-04 - val_root_mean_squared_error: 0.0126\n",
      "Epoch 63/1000\n",
      "2438/2453 [============================>.] - ETA: 0s - loss: 1.0281e-04 - root_mean_squared_error: 0.0101\n",
      "Epoch 63: val_loss did not improve from 0.00016\n",
      "2453/2453 [==============================] - 11s 5ms/step - loss: 1.0271e-04 - root_mean_squared_error: 0.0101 - val_loss: 1.8303e-04 - val_root_mean_squared_error: 0.0135\n",
      "Epoch 64/1000\n",
      "2437/2453 [============================>.] - ETA: 0s - loss: 1.0485e-04 - root_mean_squared_error: 0.0102\n",
      "Epoch 64: val_loss did not improve from 0.00016\n",
      "2453/2453 [==============================] - 11s 5ms/step - loss: 1.0484e-04 - root_mean_squared_error: 0.0102 - val_loss: 1.8996e-04 - val_root_mean_squared_error: 0.0138\n",
      "Epoch 65/1000\n",
      "2453/2453 [==============================] - ETA: 0s - loss: 1.0162e-04 - root_mean_squared_error: 0.0101\n",
      "Epoch 65: val_loss did not improve from 0.00016\n",
      "2453/2453 [==============================] - 12s 5ms/step - loss: 1.0162e-04 - root_mean_squared_error: 0.0101 - val_loss: 1.7577e-04 - val_root_mean_squared_error: 0.0133\n",
      "Epoch 66/1000\n",
      "2438/2453 [============================>.] - ETA: 0s - loss: 1.0150e-04 - root_mean_squared_error: 0.0101\n",
      "Epoch 66: val_loss did not improve from 0.00016\n",
      "2453/2453 [==============================] - 11s 5ms/step - loss: 1.0137e-04 - root_mean_squared_error: 0.0101 - val_loss: 1.6496e-04 - val_root_mean_squared_error: 0.0128\n",
      "Epoch 67/1000\n",
      "2438/2453 [============================>.] - ETA: 0s - loss: 1.0182e-04 - root_mean_squared_error: 0.0101\n",
      "Epoch 67: val_loss did not improve from 0.00016\n",
      "2453/2453 [==============================] - 12s 5ms/step - loss: 1.0206e-04 - root_mean_squared_error: 0.0101 - val_loss: 1.7574e-04 - val_root_mean_squared_error: 0.0133\n",
      "Epoch 68/1000\n",
      "2438/2453 [============================>.] - ETA: 0s - loss: 1.0547e-04 - root_mean_squared_error: 0.0103\n",
      "Epoch 68: val_loss did not improve from 0.00016\n",
      "2453/2453 [==============================] - 11s 5ms/step - loss: 1.0547e-04 - root_mean_squared_error: 0.0103 - val_loss: 1.7029e-04 - val_root_mean_squared_error: 0.0130\n",
      "Epoch 69/1000\n",
      "2453/2453 [==============================] - ETA: 0s - loss: 9.8588e-05 - root_mean_squared_error: 0.0099\n",
      "Epoch 69: val_loss did not improve from 0.00016\n",
      "2453/2453 [==============================] - 12s 5ms/step - loss: 9.8588e-05 - root_mean_squared_error: 0.0099 - val_loss: 1.8381e-04 - val_root_mean_squared_error: 0.0136\n",
      "Epoch 70/1000\n",
      "2439/2453 [============================>.] - ETA: 0s - loss: 9.8100e-05 - root_mean_squared_error: 0.0099\n",
      "Epoch 70: val_loss did not improve from 0.00016\n",
      "2453/2453 [==============================] - 11s 5ms/step - loss: 9.8065e-05 - root_mean_squared_error: 0.0099 - val_loss: 1.8104e-04 - val_root_mean_squared_error: 0.0135\n",
      "Epoch 71/1000\n",
      "2448/2453 [============================>.] - ETA: 0s - loss: 9.6750e-05 - root_mean_squared_error: 0.0098\n",
      "Epoch 71: val_loss did not improve from 0.00016\n",
      "2453/2453 [==============================] - 11s 4ms/step - loss: 9.6943e-05 - root_mean_squared_error: 0.0098 - val_loss: 1.6983e-04 - val_root_mean_squared_error: 0.0130\n",
      "Epoch 72/1000\n",
      "2446/2453 [============================>.] - ETA: 0s - loss: 9.4047e-05 - root_mean_squared_error: 0.0097\n",
      "Epoch 72: val_loss did not improve from 0.00016\n",
      "2453/2453 [==============================] - 11s 5ms/step - loss: 9.4234e-05 - root_mean_squared_error: 0.0097 - val_loss: 1.7518e-04 - val_root_mean_squared_error: 0.0132\n",
      "Epoch 73/1000\n",
      "2449/2453 [============================>.] - ETA: 0s - loss: 9.4412e-05 - root_mean_squared_error: 0.0097\n",
      "Epoch 73: val_loss did not improve from 0.00016\n",
      "2453/2453 [==============================] - 13s 5ms/step - loss: 9.4320e-05 - root_mean_squared_error: 0.0097 - val_loss: 1.7433e-04 - val_root_mean_squared_error: 0.0132\n",
      "Epoch 74/1000\n",
      "2442/2453 [============================>.] - ETA: 0s - loss: 1.0887e-04 - root_mean_squared_error: 0.0104\n",
      "Epoch 74: val_loss improved from 0.00016 to 0.00015, saving model to training/cnn-lstm\\\n"
     ]
    },
    {
     "name": "stderr",
     "output_type": "stream",
     "text": [
      "WARNING:absl:Found untraced functions such as _jit_compiled_convolution_op, _jit_compiled_convolution_op, lstm_cell_layer_call_fn, lstm_cell_layer_call_and_return_conditional_losses while saving (showing 4 of 4). These functions will not be directly callable after loading.\n"
     ]
    },
    {
     "name": "stdout",
     "output_type": "stream",
     "text": [
      "INFO:tensorflow:Assets written to: training/cnn-lstm\\assets\n"
     ]
    },
    {
     "name": "stderr",
     "output_type": "stream",
     "text": [
      "INFO:tensorflow:Assets written to: training/cnn-lstm\\assets\n"
     ]
    },
    {
     "name": "stdout",
     "output_type": "stream",
     "text": [
      "2453/2453 [==============================] - 19s 8ms/step - loss: 1.0870e-04 - root_mean_squared_error: 0.0104 - val_loss: 1.5411e-04 - val_root_mean_squared_error: 0.0124\n",
      "Epoch 75/1000\n",
      "2440/2453 [============================>.] - ETA: 0s - loss: 8.9817e-05 - root_mean_squared_error: 0.0095\n",
      "Epoch 75: val_loss did not improve from 0.00015\n",
      "2453/2453 [==============================] - 12s 5ms/step - loss: 8.9887e-05 - root_mean_squared_error: 0.0095 - val_loss: 1.8329e-04 - val_root_mean_squared_error: 0.0135\n",
      "Epoch 76/1000\n",
      "2450/2453 [============================>.] - ETA: 0s - loss: 9.2574e-05 - root_mean_squared_error: 0.0096\n",
      "Epoch 76: val_loss did not improve from 0.00015\n",
      "2453/2453 [==============================] - 12s 5ms/step - loss: 9.2584e-05 - root_mean_squared_error: 0.0096 - val_loss: 2.1005e-04 - val_root_mean_squared_error: 0.0145\n",
      "Epoch 77/1000\n",
      "2437/2453 [============================>.] - ETA: 0s - loss: 9.1967e-05 - root_mean_squared_error: 0.0096\n",
      "Epoch 77: val_loss did not improve from 0.00015\n",
      "2453/2453 [==============================] - 11s 4ms/step - loss: 9.2074e-05 - root_mean_squared_error: 0.0096 - val_loss: 1.8219e-04 - val_root_mean_squared_error: 0.0135\n",
      "Epoch 78/1000\n",
      "2443/2453 [============================>.] - ETA: 0s - loss: 9.2960e-05 - root_mean_squared_error: 0.0096\n",
      "Epoch 78: val_loss did not improve from 0.00015\n",
      "2453/2453 [==============================] - 11s 5ms/step - loss: 9.3009e-05 - root_mean_squared_error: 0.0096 - val_loss: 1.7081e-04 - val_root_mean_squared_error: 0.0131\n",
      "Epoch 79/1000\n",
      "2447/2453 [============================>.] - ETA: 0s - loss: 9.6035e-05 - root_mean_squared_error: 0.0098\n",
      "Epoch 79: val_loss did not improve from 0.00015\n",
      "2453/2453 [==============================] - 11s 5ms/step - loss: 9.5971e-05 - root_mean_squared_error: 0.0098 - val_loss: 1.7685e-04 - val_root_mean_squared_error: 0.0133\n",
      "Epoch 80/1000\n",
      "2446/2453 [============================>.] - ETA: 0s - loss: 9.2198e-05 - root_mean_squared_error: 0.0096\n",
      "Epoch 80: val_loss did not improve from 0.00015\n",
      "2453/2453 [==============================] - 11s 5ms/step - loss: 9.2300e-05 - root_mean_squared_error: 0.0096 - val_loss: 1.7151e-04 - val_root_mean_squared_error: 0.0131\n",
      "Epoch 81/1000\n",
      "2452/2453 [============================>.] - ETA: 0s - loss: 9.0131e-05 - root_mean_squared_error: 0.0095\n",
      "Epoch 81: val_loss did not improve from 0.00015\n",
      "2453/2453 [==============================] - 12s 5ms/step - loss: 9.0120e-05 - root_mean_squared_error: 0.0095 - val_loss: 1.6270e-04 - val_root_mean_squared_error: 0.0128\n",
      "Epoch 82/1000\n",
      "2439/2453 [============================>.] - ETA: 0s - loss: 9.3034e-05 - root_mean_squared_error: 0.0096\n",
      "Epoch 82: val_loss did not improve from 0.00015\n",
      "2453/2453 [==============================] - 11s 5ms/step - loss: 9.3089e-05 - root_mean_squared_error: 0.0096 - val_loss: 1.6156e-04 - val_root_mean_squared_error: 0.0127\n",
      "Epoch 83/1000\n",
      "2438/2453 [============================>.] - ETA: 0s - loss: 8.7930e-05 - root_mean_squared_error: 0.0094\n",
      "Epoch 83: val_loss did not improve from 0.00015\n",
      "2453/2453 [==============================] - 12s 5ms/step - loss: 8.8055e-05 - root_mean_squared_error: 0.0094 - val_loss: 1.6545e-04 - val_root_mean_squared_error: 0.0129\n",
      "Epoch 84/1000\n",
      "2452/2453 [============================>.] - ETA: 0s - loss: 8.9234e-05 - root_mean_squared_error: 0.0094\n",
      "Epoch 84: val_loss did not improve from 0.00015\n",
      "2453/2453 [==============================] - 13s 5ms/step - loss: 8.9234e-05 - root_mean_squared_error: 0.0094 - val_loss: 1.9252e-04 - val_root_mean_squared_error: 0.0139\n",
      "Epoch 85/1000\n",
      "2450/2453 [============================>.] - ETA: 0s - loss: 9.4553e-05 - root_mean_squared_error: 0.0097\n",
      "Epoch 85: val_loss did not improve from 0.00015\n",
      "2453/2453 [==============================] - 14s 6ms/step - loss: 9.4569e-05 - root_mean_squared_error: 0.0097 - val_loss: 1.6288e-04 - val_root_mean_squared_error: 0.0128\n",
      "Epoch 86/1000\n",
      "2452/2453 [============================>.] - ETA: 0s - loss: 9.0062e-05 - root_mean_squared_error: 0.0095\n",
      "Epoch 86: val_loss did not improve from 0.00015\n",
      "2453/2453 [==============================] - 12s 5ms/step - loss: 9.0053e-05 - root_mean_squared_error: 0.0095 - val_loss: 1.7862e-04 - val_root_mean_squared_error: 0.0134\n",
      "Epoch 87/1000\n",
      "2450/2453 [============================>.] - ETA: 0s - loss: 8.6447e-05 - root_mean_squared_error: 0.0093\n",
      "Epoch 87: val_loss did not improve from 0.00015\n",
      "2453/2453 [==============================] - 12s 5ms/step - loss: 8.6425e-05 - root_mean_squared_error: 0.0093 - val_loss: 1.8162e-04 - val_root_mean_squared_error: 0.0135\n",
      "Epoch 88/1000\n",
      "2447/2453 [============================>.] - ETA: 0s - loss: 8.5024e-05 - root_mean_squared_error: 0.0092\n",
      "Epoch 88: val_loss did not improve from 0.00015\n",
      "2453/2453 [==============================] - 13s 5ms/step - loss: 8.4973e-05 - root_mean_squared_error: 0.0092 - val_loss: 1.5504e-04 - val_root_mean_squared_error: 0.0125\n",
      "Epoch 89/1000\n",
      "2438/2453 [============================>.] - ETA: 0s - loss: 9.0607e-05 - root_mean_squared_error: 0.0095\n",
      "Epoch 89: val_loss did not improve from 0.00015\n",
      "2453/2453 [==============================] - 13s 5ms/step - loss: 9.0862e-05 - root_mean_squared_error: 0.0095 - val_loss: 1.8825e-04 - val_root_mean_squared_error: 0.0137\n",
      "Epoch 90/1000\n",
      "2441/2453 [============================>.] - ETA: 0s - loss: 8.2602e-05 - root_mean_squared_error: 0.0091\n",
      "Epoch 90: val_loss did not improve from 0.00015\n",
      "2453/2453 [==============================] - 14s 6ms/step - loss: 8.2509e-05 - root_mean_squared_error: 0.0091 - val_loss: 1.7480e-04 - val_root_mean_squared_error: 0.0132\n",
      "Epoch 91/1000\n",
      "2449/2453 [============================>.] - ETA: 0s - loss: 8.3808e-05 - root_mean_squared_error: 0.0092\n",
      "Epoch 91: val_loss did not improve from 0.00015\n",
      "2453/2453 [==============================] - 14s 6ms/step - loss: 8.3870e-05 - root_mean_squared_error: 0.0092 - val_loss: 1.7549e-04 - val_root_mean_squared_error: 0.0132\n",
      "Epoch 92/1000\n",
      "2441/2453 [============================>.] - ETA: 0s - loss: 9.1223e-05 - root_mean_squared_error: 0.0096\n",
      "Epoch 92: val_loss did not improve from 0.00015\n",
      "2453/2453 [==============================] - 14s 6ms/step - loss: 9.1311e-05 - root_mean_squared_error: 0.0096 - val_loss: 1.7929e-04 - val_root_mean_squared_error: 0.0134\n",
      "Epoch 93/1000\n",
      "2446/2453 [============================>.] - ETA: 0s - loss: 8.0544e-05 - root_mean_squared_error: 0.0090\n",
      "Epoch 93: val_loss did not improve from 0.00015\n",
      "2453/2453 [==============================] - 13s 5ms/step - loss: 8.0436e-05 - root_mean_squared_error: 0.0090 - val_loss: 1.7947e-04 - val_root_mean_squared_error: 0.0134\n",
      "Epoch 94/1000\n",
      "2449/2453 [============================>.] - ETA: 0s - loss: 8.3913e-05 - root_mean_squared_error: 0.0092\n",
      "Epoch 94: val_loss did not improve from 0.00015\n",
      "Restoring model weights from the end of the best epoch: 74.\n",
      "2453/2453 [==============================] - 13s 5ms/step - loss: 8.3907e-05 - root_mean_squared_error: 0.0092 - val_loss: 1.7321e-04 - val_root_mean_squared_error: 0.0132\n",
      "Epoch 94: early stopping\n"
     ]
    }
   ],
   "source": [
    "# Fit the model on the training data\n",
    "history = model.fit(X_train, y_train, batch_size=5, epochs=1000, validation_data=(X_val, y_val), callbacks=[cp, es])"
   ]
  },
  {
   "cell_type": "code",
   "execution_count": 54,
   "id": "602bd9ee",
   "metadata": {},
   "outputs": [
    {
     "data": {
      "image/png": "[encoded data removed]",
      "text/plain": [
       "<Figure size 1000x500 with 1 Axes>"
      ]
     },
     "metadata": {},
     "output_type": "display_data"
    }
   ],
   "source": [
    "#Plot the training and validation loss\n",
    "\n",
    "plt.figure(figsize=(10,5))\n",
    "plt.plot(history.history['loss'][1:])\n",
    "plt.plot(history.history['val_loss'])\n",
    "plt.title('Model Loss')\n",
    "plt.ylabel('Loss')\n",
    "plt.xlabel('Epoch')\n",
    "plt.legend(['Train', 'Validation'], loc='upper right')\n",
    "plt.show()"
   ]
  },
  {
   "cell_type": "code",
   "execution_count": null,
   "id": "6407173b",
   "metadata": {},
   "outputs": [],
   "source": []
  },
  {
   "cell_type": "code",
   "execution_count": null,
   "id": "b578c2fa",
   "metadata": {},
   "outputs": [],
   "source": []
  },
  {
   "cell_type": "code",
   "execution_count": null,
   "id": "28fab2a5",
   "metadata": {},
   "outputs": [],
   "source": []
  },
  {
   "cell_type": "code",
   "execution_count": null,
   "id": "f088e22f",
   "metadata": {},
   "outputs": [],
   "source": []
  },
  {
   "cell_type": "code",
   "execution_count": null,
   "id": "97a50538",
   "metadata": {},
   "outputs": [],
   "source": []
  },
  {
   "cell_type": "code",
   "execution_count": null,
   "id": "76edef28",
   "metadata": {},
   "outputs": [],
   "source": []
  },
  {
   "cell_type": "code",
   "execution_count": null,
   "id": "1e62cdf2",
   "metadata": {},
   "outputs": [],
   "source": []
  },
  {
   "cell_type": "code",
   "execution_count": null,
   "id": "d383b650",
   "metadata": {},
   "outputs": [],
   "source": []
  },
  {
   "cell_type": "code",
   "execution_count": null,
   "id": "869f6f76",
   "metadata": {},
   "outputs": [],
   "source": []
  },
  {
   "cell_type": "markdown",
   "id": "0169b6df",
   "metadata": {},
   "source": [
    "#### getting the result of (32, 6, 40, 40, 13)"
   ]
  },
  {
   "cell_type": "code",
   "execution_count": 237,
   "id": "1e4f2301",
   "metadata": {},
   "outputs": [
    {
     "name": "stdout",
     "output_type": "stream",
     "text": [
      "image shape: (32, 6, 40, 40, 13)\n"
     ]
    }
   ],
   "source": [
    "image = image_slided[np.random.choice(image_slided.shape[0], 32, replace=False)] # just randomly picking the sample from 35035.\n",
    "\n",
    "image = image.reshape(32, -1, 40, 40, 13)\n",
    "\n",
    "print(f\"image shape: {image.shape}\")"
   ]
  },
  {
   "cell_type": "code",
   "execution_count": null,
   "id": "a3ddadea",
   "metadata": {},
   "outputs": [],
   "source": []
  },
  {
   "cell_type": "code",
   "execution_count": null,
   "id": "79569fa4",
   "metadata": {},
   "outputs": [],
   "source": []
  },
  {
   "cell_type": "markdown",
   "id": "2f236d43",
   "metadata": {},
   "source": [
    "#### getting the result of (32*6, 40, 40, 13)"
   ]
  },
  {
   "cell_type": "code",
   "execution_count": 240,
   "id": "939fc2a2",
   "metadata": {},
   "outputs": [
    {
     "data": {
      "text/plain": [
       "(192, 40, 40, 13)"
      ]
     },
     "execution_count": 240,
     "metadata": {},
     "output_type": "execute_result"
    }
   ],
   "source": [
    "image = image.reshape(-1, 40, 40, 13)\n",
    "\n",
    "image.shape"
   ]
  },
  {
   "cell_type": "code",
   "execution_count": null,
   "id": "a0b45f6e",
   "metadata": {},
   "outputs": [],
   "source": []
  },
  {
   "cell_type": "code",
   "execution_count": null,
   "id": "3f63c4f8",
   "metadata": {},
   "outputs": [],
   "source": []
  },
  {
   "cell_type": "code",
   "execution_count": 241,
   "id": "d30d0a41",
   "metadata": {},
   "outputs": [
    {
     "data": {
      "text/plain": [
       "TensorShape([None, 10])"
      ]
     },
     "execution_count": 241,
     "metadata": {},
     "output_type": "execute_result"
    }
   ],
   "source": [
    "df_input = Input(shape=(40, 40, 13))\n",
    "conv_layer = Conv2D(32, kernel_size=(3,3), activation=\"relu\")(df_input)\n",
    "conv_layer = MaxPooling2D(pool_size=(2, 2))(conv_layer)\n",
    "conv_layer = Conv2D(64, kernel_size=(3, 3), activation=\"relu\")(conv_layer)\n",
    "conv_layer = MaxPooling2D(pool_size=(2, 2))(conv_layer)\n",
    "flatten_layer = Flatten()(conv_layer)\n",
    "fcnn_layer = Dense(64, activation=\"relu\")(flatten_layer)\n",
    "fcnn_layer = Dropout(0.2)(fcnn_layer)\n",
    "fcnn_layer = Dense(32, activation=\"relu\")(fcnn_layer)\n",
    "fcnn_layer = Dropout(0.2)(fcnn_layer)\n",
    "fcnn_output = Dense(10, activation=\"relu\")(fcnn_layer)\n",
    "\n",
    "fcnn_output.shape"
   ]
  },
  {
   "cell_type": "code",
   "execution_count": 242,
   "id": "9c76e16d",
   "metadata": {},
   "outputs": [
    {
     "name": "stdout",
     "output_type": "stream",
     "text": [
      "Model: \"model_3\"\n",
      "_________________________________________________________________\n",
      " Layer (type)                Output Shape              Param #   \n",
      "=================================================================\n",
      " input_9 (InputLayer)        [(None, 40, 40, 13)]      0         \n",
      "                                                                 \n",
      " conv2d_14 (Conv2D)          (None, 38, 38, 32)        3776      \n",
      "                                                                 \n",
      " max_pooling2d_13 (MaxPoolin  (None, 19, 19, 32)       0         \n",
      " g2D)                                                            \n",
      "                                                                 \n",
      " conv2d_15 (Conv2D)          (None, 17, 17, 64)        18496     \n",
      "                                                                 \n",
      " max_pooling2d_14 (MaxPoolin  (None, 8, 8, 64)         0         \n",
      " g2D)                                                            \n",
      "                                                                 \n",
      " flatten_5 (Flatten)         (None, 4096)              0         \n",
      "                                                                 \n",
      " dense_13 (Dense)            (None, 64)                262208    \n",
      "                                                                 \n",
      " dropout_4 (Dropout)         (None, 64)                0         \n",
      "                                                                 \n",
      " dense_14 (Dense)            (None, 32)                2080      \n",
      "                                                                 \n",
      " dropout_5 (Dropout)         (None, 32)                0         \n",
      "                                                                 \n",
      " dense_15 (Dense)            (None, 10)                330       \n",
      "                                                                 \n",
      "=================================================================\n",
      "Total params: 286,890\n",
      "Trainable params: 286,890\n",
      "Non-trainable params: 0\n",
      "_________________________________________________________________\n"
     ]
    }
   ],
   "source": [
    "model = Model(inputs=df_input, outputs=fcnn_output)\n",
    "model.summary()"
   ]
  },
  {
   "cell_type": "code",
   "execution_count": 244,
   "id": "0bbcb674",
   "metadata": {},
   "outputs": [],
   "source": [
    "# Compile the model with optimizer and loss function\n",
    "model.compile(optimizer='adam', loss='mse')\n"
   ]
  },
  {
   "cell_type": "code",
   "execution_count": null,
   "id": "ffeecd32",
   "metadata": {},
   "outputs": [],
   "source": []
  },
  {
   "cell_type": "code",
   "execution_count": null,
   "id": "91b7c75a",
   "metadata": {},
   "outputs": [],
   "source": []
  },
  {
   "cell_type": "code",
   "execution_count": null,
   "id": "5a03cbe7",
   "metadata": {},
   "outputs": [],
   "source": []
  },
  {
   "cell_type": "code",
   "execution_count": null,
   "id": "64e38a6e",
   "metadata": {},
   "outputs": [],
   "source": []
  },
  {
   "cell_type": "code",
   "execution_count": null,
   "id": "b9d5000d",
   "metadata": {},
   "outputs": [],
   "source": []
  },
  {
   "cell_type": "code",
   "execution_count": null,
   "id": "e5316076",
   "metadata": {},
   "outputs": [],
   "source": []
  },
  {
   "cell_type": "code",
   "execution_count": null,
   "id": "094b3b9f",
   "metadata": {},
   "outputs": [],
   "source": []
  },
  {
   "cell_type": "code",
   "execution_count": null,
   "id": "abfd9856",
   "metadata": {},
   "outputs": [],
   "source": []
  },
  {
   "cell_type": "code",
   "execution_count": null,
   "id": "5ee1da0c",
   "metadata": {},
   "outputs": [],
   "source": []
  },
  {
   "cell_type": "code",
   "execution_count": null,
   "id": "a9673198",
   "metadata": {},
   "outputs": [],
   "source": []
  },
  {
   "cell_type": "code",
   "execution_count": null,
   "id": "d27886f0",
   "metadata": {},
   "outputs": [],
   "source": [
    "CNN"
   ]
  },
  {
   "cell_type": "code",
   "execution_count": null,
   "id": "d5dfba5e",
   "metadata": {},
   "outputs": [],
   "source": [
    "(32*6, 4, 4, 32)"
   ]
  },
  {
   "cell_type": "code",
   "execution_count": null,
   "id": "4ebf9946",
   "metadata": {},
   "outputs": [],
   "source": [
    "Reshape"
   ]
  },
  {
   "cell_type": "code",
   "execution_count": null,
   "id": "a5c485ec",
   "metadata": {},
   "outputs": [],
   "source": [
    "(32*6, 4*4*32)"
   ]
  },
  {
   "cell_type": "code",
   "execution_count": null,
   "id": "deac916a",
   "metadata": {},
   "outputs": [],
   "source": [
    "FNN"
   ]
  },
  {
   "cell_type": "code",
   "execution_count": null,
   "id": "054013ea",
   "metadata": {},
   "outputs": [],
   "source": [
    "(32*6, 1)"
   ]
  },
  {
   "cell_type": "code",
   "execution_count": null,
   "id": "e9024692",
   "metadata": {},
   "outputs": [],
   "source": [
    "Reshape"
   ]
  },
  {
   "cell_type": "code",
   "execution_count": null,
   "id": "9dab0fc0",
   "metadata": {},
   "outputs": [],
   "source": [
    "(32, 6, 1)"
   ]
  },
  {
   "cell_type": "code",
   "execution_count": null,
   "id": "8eae24ef",
   "metadata": {},
   "outputs": [],
   "source": []
  },
  {
   "cell_type": "code",
   "execution_count": null,
   "id": "cef02546",
   "metadata": {},
   "outputs": [],
   "source": []
  },
  {
   "cell_type": "code",
   "execution_count": null,
   "id": "8b1b15a1",
   "metadata": {},
   "outputs": [],
   "source": []
  },
  {
   "cell_type": "code",
   "execution_count": null,
   "id": "1644ebf5",
   "metadata": {},
   "outputs": [],
   "source": []
  },
  {
   "cell_type": "code",
   "execution_count": null,
   "id": "b969e8cc",
   "metadata": {},
   "outputs": [],
   "source": []
  },
  {
   "cell_type": "code",
   "execution_count": null,
   "id": "7289e74e",
   "metadata": {},
   "outputs": [],
   "source": []
  },
  {
   "cell_type": "code",
   "execution_count": null,
   "id": "82bb8b89",
   "metadata": {},
   "outputs": [],
   "source": []
  },
  {
   "cell_type": "code",
   "execution_count": null,
   "id": "0de8eef2",
   "metadata": {},
   "outputs": [],
   "source": []
  },
  {
   "cell_type": "code",
   "execution_count": null,
   "id": "03d047ab",
   "metadata": {},
   "outputs": [],
   "source": []
  }
 ],
 "metadata": {
  "kernelspec": {
   "display_name": "Python 3 (ipykernel)",
   "language": "python",
   "name": "python3"
  },
  "language_info": {
   "codemirror_mode": {
    "name": "ipython",
    "version": 3
   },
   "file_extension": ".py",
   "mimetype": "text/x-python",
   "name": "python",
   "nbconvert_exporter": "python",
   "pygments_lexer": "ipython3",
   "version": "3.9.13"
  }
 },
 "nbformat": 4,
 "nbformat_minor": 5
}
