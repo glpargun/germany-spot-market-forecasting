{
 "cells": [
  {
   "cell_type": "code",
   "execution_count": 4,
   "id": "b541a97e",
   "metadata": {},
   "outputs": [
    {
     "name": "stderr",
     "output_type": "stream",
     "text": [
      "2023-04-20 14:03:46.603632: I tensorflow/core/platform/cpu_feature_guard.cc:193] This TensorFlow binary is optimized with oneAPI Deep Neural Network Library (oneDNN) to use the following CPU instructions in performance-critical operations:  AVX2 FMA\n",
      "To enable them in other operations, rebuild TensorFlow with the appropriate compiler flags.\n"
     ]
    }
   ],
   "source": [
    "import numpy as np\n",
    "import pandas as pd\n",
    "import pickle, csv\n",
    "import os\n",
    "\n",
    "from keras.models import Sequential, load_model, Model\n",
    "from keras.layers import LSTM, Dense, Dropout, Input, concatenate, Flatten, Reshape\n",
    "from keras import regularizers\n",
    "from keras.callbacks import ModelCheckpoint, EarlyStopping\n",
    "from tensorflow.keras.losses import MeanSquaredError\n",
    "from tensorflow.keras.metrics import RootMeanSquaredError\n",
    "from tensorflow.keras.optimizers import Adam\n",
    "from keras.preprocessing.sequence import TimeseriesGenerator\n",
    "import tensorflow.keras.backend as K\n",
    "from skimage.transform import resize\n",
    "\n",
    "from matplotlib import pyplot as plt\n",
    "from matplotlib import style\n",
    "from sklearn.preprocessing import StandardScaler, MinMaxScaler\n",
    "from sklearn.model_selection import train_test_split\n",
    "import seaborn as sns"
   ]
  },
  {
   "cell_type": "code",
   "execution_count": 5,
   "id": "4e606a35",
   "metadata": {},
   "outputs": [],
   "source": [
    "# Load powerprice data and format it\n",
    "df_powerprice = pd.read_csv(\"data/PowerPrice.csv\")\n",
    "df_powerprice[\"Time\"] = pd.to_datetime(df_powerprice[\"Time\"], infer_datetime_format=True)\n",
    "df_powerprice = df_powerprice.drop(columns=[\"Time\"])"
   ]
  },
  {
   "cell_type": "code",
   "execution_count": 6,
   "id": "26b7f3ba",
   "metadata": {},
   "outputs": [],
   "source": [
    "# Load spatial data and format it\n",
    "datasets = []\n",
    "for filename in os.listdir(\"data/Spatial\"):\n",
    "    if filename.endswith(\".pickle\"):\n",
    "        with open(os.path.join(\"data/Spatial\", filename), \"rb\") as file:\n",
    "            data = pickle.load(file)\n",
    "            if data.shape == (100, 35040):\n",
    "                datasets.append(data)\n",
    "            else:\n",
    "                print(f\"Skipping {filename}: unexpected shape {data.shape}\")"
   ]
  },
  {
   "cell_type": "code",
   "execution_count": 22,
   "id": "1aa505ac",
   "metadata": {},
   "outputs": [
    {
     "data": {
      "text/plain": [
       "(13, 100, 35040)"
      ]
     },
     "execution_count": 22,
     "metadata": {},
     "output_type": "execute_result"
    }
   ],
   "source": [
    "# Convert the list of arrays to a 3D array\n",
    "spatial_data = np.stack(datasets, axis=0)\n",
    "\n",
    "spatial_data = spatial_data.reshape((spatial_data.shape[0], spatial_data.shape[1], spatial_data.shape[2]))\n",
    "\n",
    "# transpose the second and third dimensions to get shape (13, 35040, 100)\n",
    "spatial_data = spatial_data.transpose((0, 1, 2))\n",
    "\n",
    "spatial_data.shape"
   ]
  },
  {
   "cell_type": "code",
   "execution_count": 25,
   "id": "d637fa40",
   "metadata": {},
   "outputs": [],
   "source": [
    "# Load mask and reshape to match desired output shape\n",
    "mask = pd.read_csv(\"germany/mask.csv\", header=None).values\n",
    "#mask = mask_df.values.reshape((40, 40, 1))\n",
    "\n",
    "#mask.shape"
   ]
  },
  {
   "cell_type": "code",
   "execution_count": 27,
   "id": "d9b3f45c",
   "metadata": {},
   "outputs": [
    {
     "data": {
      "text/plain": [
       "(13, 100, 35040)"
      ]
     },
     "execution_count": 27,
     "metadata": {},
     "output_type": "execute_result"
    }
   ],
   "source": [
    "spatial_data.shape"
   ]
  },
  {
   "cell_type": "code",
   "execution_count": 40,
   "id": "7ecc254a",
   "metadata": {
    "scrolled": false
   },
   "outputs": [],
   "source": [
    "image_all = np.zeros((35040, 40, 40, 13))\n",
    "for j in range(spatial_data.shape[2]):\n",
    "    for i in range(spatial_data.shape[0]):\n",
    "        image = np.zeros((40, 40))\n",
    "        for s in range(spatial_data.shape[1]):\n",
    "            image[mask == s] = spatial_data[i,s,j]\n",
    "        #print(i)\n",
    "        image_all[j, :, :, i] = image"
   ]
  },
  {
   "cell_type": "code",
   "execution_count": 41,
   "id": "c09244ca",
   "metadata": {},
   "outputs": [
    {
     "data": {
      "text/plain": [
       "(13, 40, 40, 35040)"
      ]
     },
     "execution_count": 41,
     "metadata": {},
     "output_type": "execute_result"
    }
   ],
   "source": [
    "spatial_data = spatial_data.repeat(16, axis=2) # Repeat each spatial map 16 times\n",
    "spatial_data = spatial_data.transpose((0, 2, 1)) # Transpose to (13, 35040, 100)\n",
    "spatial_data = spatial_data.reshape((spatial_data.shape[0], 40, 40, -1)) # Reshape to (13, 40, 40, 35040)\n",
    "spatial_data.shape"
   ]
  },
  {
   "cell_type": "code",
   "execution_count": 44,
   "id": "b671f36e",
   "metadata": {},
   "outputs": [
    {
     "data": {
      "image/png": "[encoded data removed]",
      "text/plain": [
       "<Figure size 640x480 with 1 Axes>"
      ]
     },
     "metadata": {},
     "output_type": "display_data"
    }
   ],
   "source": [
    "plt.imshow(image_all[4,:,:,7])\n",
    "plt.show()"
   ]
  },
  {
   "cell_type": "code",
   "execution_count": 45,
   "id": "0eaa7de5",
   "metadata": {},
   "outputs": [
    {
     "data": {
      "text/plain": [
       "(35040, 40, 40, 13)"
      ]
     },
     "execution_count": 45,
     "metadata": {},
     "output_type": "execute_result"
    }
   ],
   "source": [
    "image_all.shape"
   ]
  },
  {
   "cell_type": "code",
   "execution_count": null,
   "id": "bba422ca",
   "metadata": {},
   "outputs": [],
   "source": [
    "(35040, 6, 40, 40, 13)"
   ]
  },
  {
   "cell_type": "code",
   "execution_count": null,
   "id": "a9673198",
   "metadata": {},
   "outputs": [],
   "source": [
    "(32, 6, 40, 40, 13)"
   ]
  },
  {
   "cell_type": "code",
   "execution_count": null,
   "id": "ae1a1e3c",
   "metadata": {},
   "outputs": [],
   "source": [
    "(32*6, 40, 40, 13)"
   ]
  },
  {
   "cell_type": "code",
   "execution_count": null,
   "id": "d27886f0",
   "metadata": {},
   "outputs": [],
   "source": [
    "CNN"
   ]
  },
  {
   "cell_type": "code",
   "execution_count": null,
   "id": "d5dfba5e",
   "metadata": {},
   "outputs": [],
   "source": [
    "(32*6, 4, 4, 32)"
   ]
  },
  {
   "cell_type": "code",
   "execution_count": null,
   "id": "4ebf9946",
   "metadata": {},
   "outputs": [],
   "source": [
    "Reshape"
   ]
  },
  {
   "cell_type": "code",
   "execution_count": null,
   "id": "a5c485ec",
   "metadata": {},
   "outputs": [],
   "source": [
    "(32*6, 4*4*32)"
   ]
  },
  {
   "cell_type": "code",
   "execution_count": null,
   "id": "deac916a",
   "metadata": {},
   "outputs": [],
   "source": [
    "FNN"
   ]
  },
  {
   "cell_type": "code",
   "execution_count": null,
   "id": "054013ea",
   "metadata": {},
   "outputs": [],
   "source": [
    "(32*6, 1)"
   ]
  },
  {
   "cell_type": "code",
   "execution_count": null,
   "id": "e9024692",
   "metadata": {},
   "outputs": [],
   "source": [
    "Reshape"
   ]
  },
  {
   "cell_type": "code",
   "execution_count": null,
   "id": "9dab0fc0",
   "metadata": {},
   "outputs": [],
   "source": [
    "(32, 6, 1)"
   ]
  },
  {
   "cell_type": "code",
   "execution_count": 10,
   "id": "452aa81c",
   "metadata": {},
   "outputs": [
    {
     "data": {
      "text/plain": [
       "(13, 40, 40, 0)"
      ]
     },
     "execution_count": 10,
     "metadata": {},
     "output_type": "execute_result"
    }
   ],
   "source": [
    "# Tile the mask to have the same shape as spatial_data\n",
    "mask_data = np.tile(mask, (spatial_data.shape[0], 1, 1, 0))\n",
    "mask_data.shape"
   ]
  },
  {
   "cell_type": "code",
   "execution_count": 11,
   "id": "c278d4e8",
   "metadata": {},
   "outputs": [
    {
     "name": "stdout",
     "output_type": "stream",
     "text": [
      "Spatial data shape:  (13, 40, 40, 35040)\n",
      "Mask data shape:  (13, 40, 40, 0)\n"
     ]
    }
   ],
   "source": [
    "print(\"Spatial data shape: \", spatial_data.shape)\n",
    "print(\"Mask data shape: \", mask_data.shape)"
   ]
  },
  {
   "cell_type": "code",
   "execution_count": 12,
   "id": "efb410ca",
   "metadata": {},
   "outputs": [
    {
     "data": {
      "text/plain": [
       "(13, 40, 40, 35040)"
      ]
     },
     "execution_count": 12,
     "metadata": {},
     "output_type": "execute_result"
    }
   ],
   "source": [
    "# Concatenate spatial data (13, 40, 40, 35040) and mask data (13, 40, 40, 0)\n",
    "df = np.concatenate([spatial_data, mask_data], axis=3)\n",
    "df.shape"
   ]
  },
  {
   "cell_type": "code",
   "execution_count": 13,
   "id": "8542a7c9",
   "metadata": {},
   "outputs": [
    {
     "data": {
      "image/png": "[encoded data removed]",
      "text/plain": [
       "<Figure size 640x480 with 1 Axes>"
      ]
     },
     "metadata": {},
     "output_type": "display_data"
    }
   ],
   "source": [
    "import matplotlib.pyplot as plt\n",
    "plt.imshow(df[1,:,:,0])\n",
    "plt.show()"
   ]
  },
  {
   "cell_type": "markdown",
   "id": "222932ca",
   "metadata": {},
   "source": [
    "the input shape is (35040, 40, 40, 13) that there are 35040 images with dimensions 40x40 and 13 channels."
   ]
  },
  {
   "cell_type": "code",
   "execution_count": 763,
   "id": "1222e675",
   "metadata": {},
   "outputs": [
    {
     "data": {
      "text/plain": [
       "(35040, 40, 40, 13)"
      ]
     },
     "execution_count": 763,
     "metadata": {},
     "output_type": "execute_result"
    }
   ],
   "source": [
    "# transpose to get shape (35040, 40, 40, 13)\n",
    "df = df.transpose((3, 1, 2, 0))\n",
    "df.shape"
   ]
  },
  {
   "cell_type": "code",
   "execution_count": null,
   "id": "23523d6a",
   "metadata": {},
   "outputs": [],
   "source": []
  },
  {
   "cell_type": "code",
   "execution_count": null,
   "id": "9c272e2c",
   "metadata": {},
   "outputs": [],
   "source": []
  },
  {
   "cell_type": "code",
   "execution_count": 764,
   "id": "c4d6860b",
   "metadata": {},
   "outputs": [],
   "source": [
    "# time series data with window of size 6\n",
    "window_size = 6\n",
    "X = []\n",
    "y = []\n",
    "for i in range(window_size, 35034):\n",
    "    # window\n",
    "    window = df[i-window_size:i, :, :, :]\n",
    "    X.append(window.transpose((0, 1, 2, 3)))\n",
    "    # label\n",
    "    label = df[i, :, :, :]\n",
    "    # Transpose label to shape (13, 40, 40)\n",
    "    label = label.transpose((1, 0, 2))\n",
    "    y.append(label)\n",
    "# Convert X and y to numpy arrays\n",
    "X = np.array(X)\n",
    "y = np.array(y)"
   ]
  },
  {
   "cell_type": "code",
   "execution_count": 765,
   "id": "859bc43e",
   "metadata": {},
   "outputs": [
    {
     "name": "stdout",
     "output_type": "stream",
     "text": [
      "X shape : (35028, 6, 40, 40, 13)\n",
      "y shape : (35028, 40, 40, 13)\n"
     ]
    }
   ],
   "source": [
    "print(f\"X shape : {X.shape}\")\n",
    "print(f\"y shape : {y.shape}\")"
   ]
  },
  {
   "cell_type": "code",
   "execution_count": null,
   "id": "e8d14872",
   "metadata": {},
   "outputs": [],
   "source": []
  },
  {
   "cell_type": "code",
   "execution_count": 766,
   "id": "0ffda250",
   "metadata": {},
   "outputs": [],
   "source": [
    "# Define the train, validation, and test set sizes\n",
    "train_size = int(0.6 * len(X))\n",
    "val_size = int(0.2 * len(X))\n",
    "test_size = len(X) - train_size - val_size\n",
    "\n",
    "# Split the data into train, validation, and test sets\n",
    "X_train = X[:train_size]\n",
    "y_train = y[:train_size]\n",
    "X_val = X[train_size:train_size+val_size]\n",
    "y_val = y[train_size:train_size+val_size]\n",
    "X_test = X[train_size+val_size:]\n",
    "y_test = y[train_size+val_size:]"
   ]
  },
  {
   "cell_type": "code",
   "execution_count": 767,
   "id": "49105bec",
   "metadata": {},
   "outputs": [
    {
     "name": "stdout",
     "output_type": "stream",
     "text": [
      "Train set shape: (21016, 6, 40, 40, 13) (21016, 40, 40, 13)\n",
      "Validation set shape: (7005, 6, 40, 40, 13) (7005, 40, 40, 13)\n",
      "Test set shape: (7007, 6, 40, 40, 13) (7007, 40, 40, 13)\n"
     ]
    }
   ],
   "source": [
    "print(\"Train set shape:\", X_train.shape, y_train.shape) \n",
    "print(\"Validation set shape:\", X_val.shape, y_val.shape)\n",
    "print(\"Test set shape:\", X_test.shape, y_test.shape)"
   ]
  },
  {
   "cell_type": "code",
   "execution_count": null,
   "id": "f83257f6",
   "metadata": {},
   "outputs": [],
   "source": []
  },
  {
   "cell_type": "code",
   "execution_count": null,
   "id": "f33eae2f",
   "metadata": {},
   "outputs": [],
   "source": []
  },
  {
   "cell_type": "code",
   "execution_count": 769,
   "id": "a28392cc",
   "metadata": {},
   "outputs": [
    {
     "data": {
      "text/plain": [
       "TensorShape([None, 10])"
      ]
     },
     "execution_count": 769,
     "metadata": {},
     "output_type": "execute_result"
    }
   ],
   "source": [
    "df_input = Input(shape=(40, 40, 13))\n",
    "conv_layer = Conv2D(32, kernel_size=(3,3), activation=\"relu\")(df_input)\n",
    "conv_layer = MaxPooling2D(pool_size=(2, 2))(conv_layer)\n",
    "conv_layer = Conv2D(64, kernel_size=(3, 3), activation=\"relu\")(conv_layer)\n",
    "conv_layer = MaxPooling2D(pool_size=(2, 2))(conv_layer)\n",
    "flatten_layer = Flatten()(conv_layer)\n",
    "fcnn_layer = Dense(64, activation=\"relu\")(flatten_layer)\n",
    "fcnn_layer = Dropout(0.2)(fcnn_layer)\n",
    "fcnn_layer = Dense(32, activation=\"relu\")(fcnn_layer)\n",
    "fcnn_layer = Dropout(0.2)(fcnn_layer)\n",
    "fcnn_output = Dense(10, activation=\"relu\")(fcnn_layer)\n",
    "\n",
    "fcnn_output.shape"
   ]
  },
  {
   "cell_type": "code",
   "execution_count": 770,
   "id": "e4c4d38a",
   "metadata": {},
   "outputs": [
    {
     "name": "stdout",
     "output_type": "stream",
     "text": [
      "Model: \"model_1\"\n",
      "_________________________________________________________________\n",
      " Layer (type)                Output Shape              Param #   \n",
      "=================================================================\n",
      " input_17 (InputLayer)       [(None, 40, 40, 13)]      0         \n",
      "                                                                 \n",
      " conv2d_15 (Conv2D)          (None, 38, 38, 32)        3776      \n",
      "                                                                 \n",
      " max_pooling2d_14 (MaxPoolin  (None, 19, 19, 32)       0         \n",
      " g2D)                                                            \n",
      "                                                                 \n",
      " conv2d_16 (Conv2D)          (None, 17, 17, 64)        18496     \n",
      "                                                                 \n",
      " max_pooling2d_15 (MaxPoolin  (None, 8, 8, 64)         0         \n",
      " g2D)                                                            \n",
      "                                                                 \n",
      " flatten_5 (Flatten)         (None, 4096)              0         \n",
      "                                                                 \n",
      " dense_12 (Dense)            (None, 64)                262208    \n",
      "                                                                 \n",
      " dropout_8 (Dropout)         (None, 64)                0         \n",
      "                                                                 \n",
      " dense_13 (Dense)            (None, 32)                2080      \n",
      "                                                                 \n",
      " dropout_9 (Dropout)         (None, 32)                0         \n",
      "                                                                 \n",
      " dense_14 (Dense)            (None, 10)                330       \n",
      "                                                                 \n",
      "=================================================================\n",
      "Total params: 286,890\n",
      "Trainable params: 286,890\n",
      "Non-trainable params: 0\n",
      "_________________________________________________________________\n"
     ]
    }
   ],
   "source": [
    "model = Model(inputs=df_input, outputs=fcnn_output)\n",
    "model.summary()"
   ]
  },
  {
   "cell_type": "code",
   "execution_count": 771,
   "id": "2c78418f",
   "metadata": {},
   "outputs": [
    {
     "name": "stdout",
     "output_type": "stream",
     "text": [
      "Epoch 1/10\n"
     ]
    },
    {
     "ename": "ValueError",
     "evalue": "in user code:\n\n    File \"C:\\Users\\113202010\\Anaconda3\\lib\\site-packages\\keras\\engine\\training.py\", line 1051, in train_function  *\n        return step_function(self, iterator)\n    File \"C:\\Users\\113202010\\Anaconda3\\lib\\site-packages\\keras\\engine\\training.py\", line 1040, in step_function  **\n        outputs = model.distribute_strategy.run(run_step, args=(data,))\n    File \"C:\\Users\\113202010\\Anaconda3\\lib\\site-packages\\keras\\engine\\training.py\", line 1030, in run_step  **\n        outputs = model.train_step(data)\n    File \"C:\\Users\\113202010\\Anaconda3\\lib\\site-packages\\keras\\engine\\training.py\", line 889, in train_step\n        y_pred = self(x, training=True)\n    File \"C:\\Users\\113202010\\Anaconda3\\lib\\site-packages\\keras\\utils\\traceback_utils.py\", line 67, in error_handler\n        raise e.with_traceback(filtered_tb) from None\n    File \"C:\\Users\\113202010\\Anaconda3\\lib\\site-packages\\keras\\engine\\input_spec.py\", line 264, in assert_input_compatibility\n        raise ValueError(f'Input {input_index} of layer \"{layer_name}\" is '\n\n    ValueError: Input 0 of layer \"model_1\" is incompatible with the layer: expected shape=(None, 40, 40, 13), found shape=(None, 6, 40, 40, 13)\n",
     "output_type": "error",
     "traceback": [
      "\u001b[1;31m---------------------------------------------------------------------------\u001b[0m",
      "\u001b[1;31mValueError\u001b[0m                                Traceback (most recent call last)",
      "\u001b[1;32m~\\AppData\\Local\\Temp\\ipykernel_796\\3113690860.py\u001b[0m in \u001b[0;36m<module>\u001b[1;34m\u001b[0m\n\u001b[0;32m      3\u001b[0m \u001b[1;33m\u001b[0m\u001b[0m\n\u001b[0;32m      4\u001b[0m \u001b[1;31m# Fit the model on the training data\u001b[0m\u001b[1;33m\u001b[0m\u001b[1;33m\u001b[0m\u001b[0m\n\u001b[1;32m----> 5\u001b[1;33m \u001b[0mmodel\u001b[0m\u001b[1;33m.\u001b[0m\u001b[0mfit\u001b[0m\u001b[1;33m(\u001b[0m\u001b[0mX_train\u001b[0m\u001b[1;33m,\u001b[0m \u001b[0my_train\u001b[0m\u001b[1;33m,\u001b[0m \u001b[0mbatch_size\u001b[0m\u001b[1;33m=\u001b[0m\u001b[1;36m32\u001b[0m\u001b[1;33m,\u001b[0m \u001b[0mepochs\u001b[0m\u001b[1;33m=\u001b[0m\u001b[1;36m10\u001b[0m\u001b[1;33m,\u001b[0m \u001b[0mvalidation_data\u001b[0m\u001b[1;33m=\u001b[0m\u001b[1;33m(\u001b[0m\u001b[0mX_val\u001b[0m\u001b[1;33m,\u001b[0m \u001b[0my_val\u001b[0m\u001b[1;33m)\u001b[0m\u001b[1;33m)\u001b[0m\u001b[1;33m\u001b[0m\u001b[1;33m\u001b[0m\u001b[0m\n\u001b[0m",
      "\u001b[1;32m~\\Anaconda3\\lib\\site-packages\\keras\\utils\\traceback_utils.py\u001b[0m in \u001b[0;36merror_handler\u001b[1;34m(*args, **kwargs)\u001b[0m\n\u001b[0;32m     65\u001b[0m     \u001b[1;32mexcept\u001b[0m \u001b[0mException\u001b[0m \u001b[1;32mas\u001b[0m \u001b[0me\u001b[0m\u001b[1;33m:\u001b[0m  \u001b[1;31m# pylint: disable=broad-except\u001b[0m\u001b[1;33m\u001b[0m\u001b[1;33m\u001b[0m\u001b[0m\n\u001b[0;32m     66\u001b[0m       \u001b[0mfiltered_tb\u001b[0m \u001b[1;33m=\u001b[0m \u001b[0m_process_traceback_frames\u001b[0m\u001b[1;33m(\u001b[0m\u001b[0me\u001b[0m\u001b[1;33m.\u001b[0m\u001b[0m__traceback__\u001b[0m\u001b[1;33m)\u001b[0m\u001b[1;33m\u001b[0m\u001b[1;33m\u001b[0m\u001b[0m\n\u001b[1;32m---> 67\u001b[1;33m       \u001b[1;32mraise\u001b[0m \u001b[0me\u001b[0m\u001b[1;33m.\u001b[0m\u001b[0mwith_traceback\u001b[0m\u001b[1;33m(\u001b[0m\u001b[0mfiltered_tb\u001b[0m\u001b[1;33m)\u001b[0m \u001b[1;32mfrom\u001b[0m \u001b[1;32mNone\u001b[0m\u001b[1;33m\u001b[0m\u001b[1;33m\u001b[0m\u001b[0m\n\u001b[0m\u001b[0;32m     68\u001b[0m     \u001b[1;32mfinally\u001b[0m\u001b[1;33m:\u001b[0m\u001b[1;33m\u001b[0m\u001b[1;33m\u001b[0m\u001b[0m\n\u001b[0;32m     69\u001b[0m       \u001b[1;32mdel\u001b[0m \u001b[0mfiltered_tb\u001b[0m\u001b[1;33m\u001b[0m\u001b[1;33m\u001b[0m\u001b[0m\n",
      "\u001b[1;32m~\\Anaconda3\\lib\\site-packages\\keras\\engine\\training.py\u001b[0m in \u001b[0;36mtf__train_function\u001b[1;34m(iterator)\u001b[0m\n\u001b[0;32m     13\u001b[0m                 \u001b[1;32mtry\u001b[0m\u001b[1;33m:\u001b[0m\u001b[1;33m\u001b[0m\u001b[1;33m\u001b[0m\u001b[0m\n\u001b[0;32m     14\u001b[0m                     \u001b[0mdo_return\u001b[0m \u001b[1;33m=\u001b[0m \u001b[1;32mTrue\u001b[0m\u001b[1;33m\u001b[0m\u001b[1;33m\u001b[0m\u001b[0m\n\u001b[1;32m---> 15\u001b[1;33m                     \u001b[0mretval_\u001b[0m \u001b[1;33m=\u001b[0m \u001b[0mag__\u001b[0m\u001b[1;33m.\u001b[0m\u001b[0mconverted_call\u001b[0m\u001b[1;33m(\u001b[0m\u001b[0mag__\u001b[0m\u001b[1;33m.\u001b[0m\u001b[0mld\u001b[0m\u001b[1;33m(\u001b[0m\u001b[0mstep_function\u001b[0m\u001b[1;33m)\u001b[0m\u001b[1;33m,\u001b[0m \u001b[1;33m(\u001b[0m\u001b[0mag__\u001b[0m\u001b[1;33m.\u001b[0m\u001b[0mld\u001b[0m\u001b[1;33m(\u001b[0m\u001b[0mself\u001b[0m\u001b[1;33m)\u001b[0m\u001b[1;33m,\u001b[0m \u001b[0mag__\u001b[0m\u001b[1;33m.\u001b[0m\u001b[0mld\u001b[0m\u001b[1;33m(\u001b[0m\u001b[0miterator\u001b[0m\u001b[1;33m)\u001b[0m\u001b[1;33m)\u001b[0m\u001b[1;33m,\u001b[0m \u001b[1;32mNone\u001b[0m\u001b[1;33m,\u001b[0m \u001b[0mfscope\u001b[0m\u001b[1;33m)\u001b[0m\u001b[1;33m\u001b[0m\u001b[1;33m\u001b[0m\u001b[0m\n\u001b[0m\u001b[0;32m     16\u001b[0m                 \u001b[1;32mexcept\u001b[0m\u001b[1;33m:\u001b[0m\u001b[1;33m\u001b[0m\u001b[1;33m\u001b[0m\u001b[0m\n\u001b[0;32m     17\u001b[0m                     \u001b[0mdo_return\u001b[0m \u001b[1;33m=\u001b[0m \u001b[1;32mFalse\u001b[0m\u001b[1;33m\u001b[0m\u001b[1;33m\u001b[0m\u001b[0m\n",
      "\u001b[1;31mValueError\u001b[0m: in user code:\n\n    File \"C:\\Users\\113202010\\Anaconda3\\lib\\site-packages\\keras\\engine\\training.py\", line 1051, in train_function  *\n        return step_function(self, iterator)\n    File \"C:\\Users\\113202010\\Anaconda3\\lib\\site-packages\\keras\\engine\\training.py\", line 1040, in step_function  **\n        outputs = model.distribute_strategy.run(run_step, args=(data,))\n    File \"C:\\Users\\113202010\\Anaconda3\\lib\\site-packages\\keras\\engine\\training.py\", line 1030, in run_step  **\n        outputs = model.train_step(data)\n    File \"C:\\Users\\113202010\\Anaconda3\\lib\\site-packages\\keras\\engine\\training.py\", line 889, in train_step\n        y_pred = self(x, training=True)\n    File \"C:\\Users\\113202010\\Anaconda3\\lib\\site-packages\\keras\\utils\\traceback_utils.py\", line 67, in error_handler\n        raise e.with_traceback(filtered_tb) from None\n    File \"C:\\Users\\113202010\\Anaconda3\\lib\\site-packages\\keras\\engine\\input_spec.py\", line 264, in assert_input_compatibility\n        raise ValueError(f'Input {input_index} of layer \"{layer_name}\" is '\n\n    ValueError: Input 0 of layer \"model_1\" is incompatible with the layer: expected shape=(None, 40, 40, 13), found shape=(None, 6, 40, 40, 13)\n"
     ]
    }
   ],
   "source": [
    "# Compile the model with optimizer and loss function\n",
    "model.compile(optimizer='adam', loss='mse')\n",
    "\n",
    "# Fit the model on the training data\n",
    "model.fit(X_train, y_train, batch_size=32, epochs=10, validation_data=(X_val, y_val))"
   ]
  },
  {
   "cell_type": "code",
   "execution_count": null,
   "id": "8d7675b4",
   "metadata": {},
   "outputs": [],
   "source": []
  },
  {
   "cell_type": "code",
   "execution_count": null,
   "id": "8eae24ef",
   "metadata": {},
   "outputs": [],
   "source": []
  },
  {
   "cell_type": "code",
   "execution_count": null,
   "id": "b969e8cc",
   "metadata": {},
   "outputs": [],
   "source": []
  },
  {
   "cell_type": "code",
   "execution_count": null,
   "id": "7289e74e",
   "metadata": {},
   "outputs": [],
   "source": []
  },
  {
   "cell_type": "code",
   "execution_count": null,
   "id": "82bb8b89",
   "metadata": {},
   "outputs": [],
   "source": []
  },
  {
   "cell_type": "code",
   "execution_count": null,
   "id": "0de8eef2",
   "metadata": {},
   "outputs": [],
   "source": []
  },
  {
   "cell_type": "code",
   "execution_count": null,
   "id": "03d047ab",
   "metadata": {},
   "outputs": [],
   "source": []
  }
 ],
 "metadata": {
  "kernelspec": {
   "display_name": "Python 3 (ipykernel)",
   "language": "python",
   "name": "python3"
  },
  "language_info": {
   "codemirror_mode": {
    "name": "ipython",
    "version": 3
   },
   "file_extension": ".py",
   "mimetype": "text/x-python",
   "name": "python",
   "nbconvert_exporter": "python",
   "pygments_lexer": "ipython3",
   "version": "3.9.13"
  }
 },
 "nbformat": 4,
 "nbformat_minor": 5
}
