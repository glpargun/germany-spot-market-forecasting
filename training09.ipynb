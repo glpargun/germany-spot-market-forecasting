{
 "cells": [
  {
   "cell_type": "code",
   "execution_count": 34,
   "id": "b541a97e",
   "metadata": {},
   "outputs": [],
   "source": [
    "import numpy as np\n",
    "import pandas as pd\n",
    "import pickle, csv\n",
    "import os\n",
    "\n",
    "from keras.models import Sequential, load_model, Model\n",
    "from keras.layers import LSTM, Dense, Dropout, Input, concatenate, Flatten, Reshape,MaxPooling2D, Conv2D, TimeDistributed\n",
    "from keras import regularizers\n",
    "from keras.utils import to_categorical\n",
    "\n",
    "from keras.callbacks import ModelCheckpoint, EarlyStopping\n",
    "from tensorflow.keras.losses import MeanSquaredError\n",
    "from tensorflow.keras.metrics import RootMeanSquaredError\n",
    "from tensorflow.keras.optimizers import Adam\n",
    "from keras.preprocessing.sequence import TimeseriesGenerator\n",
    "import tensorflow.keras.backend as K\n",
    "from skimage.transform import resize\n",
    "from tensorflow.keras import layers, models\n",
    "\n",
    "\n",
    "from matplotlib import pyplot as plt\n",
    "from matplotlib import style\n",
    "from sklearn.preprocessing import StandardScaler, MinMaxScaler\n",
    "from sklearn.model_selection import train_test_split\n",
    "import seaborn as sns\n",
    "\n",
    "import tensorflow.keras.backend as K\n",
    "K.clear_session()"
   ]
  },
  {
   "cell_type": "code",
   "execution_count": 35,
   "id": "4e606a35",
   "metadata": {},
   "outputs": [
    {
     "data": {
      "text/html": [
       "<div>\n",
       "<style scoped>\n",
       "    .dataframe tbody tr th:only-of-type {\n",
       "        vertical-align: middle;\n",
       "    }\n",
       "\n",
       "    .dataframe tbody tr th {\n",
       "        vertical-align: top;\n",
       "    }\n",
       "\n",
       "    .dataframe thead th {\n",
       "        text-align: right;\n",
       "    }\n",
       "</style>\n",
       "<table border=\"1\" class=\"dataframe\">\n",
       "  <thead>\n",
       "    <tr style=\"text-align: right;\">\n",
       "      <th></th>\n",
       "      <th>DayAhead</th>\n",
       "      <th>Spot</th>\n",
       "      <th>REBAP</th>\n",
       "    </tr>\n",
       "  </thead>\n",
       "  <tbody>\n",
       "    <tr>\n",
       "      <th>0</th>\n",
       "      <td>2.83200</td>\n",
       "      <td>3.688</td>\n",
       "      <td>-4.566</td>\n",
       "    </tr>\n",
       "    <tr>\n",
       "      <th>1</th>\n",
       "      <td>2.37575</td>\n",
       "      <td>4.245</td>\n",
       "      <td>-13.964</td>\n",
       "    </tr>\n",
       "    <tr>\n",
       "      <th>2</th>\n",
       "      <td>1.91950</td>\n",
       "      <td>3.161</td>\n",
       "      <td>0.345</td>\n",
       "    </tr>\n",
       "    <tr>\n",
       "      <th>3</th>\n",
       "      <td>1.46325</td>\n",
       "      <td>1.664</td>\n",
       "      <td>3.048</td>\n",
       "    </tr>\n",
       "    <tr>\n",
       "      <th>4</th>\n",
       "      <td>1.00700</td>\n",
       "      <td>3.110</td>\n",
       "      <td>-6.679</td>\n",
       "    </tr>\n",
       "    <tr>\n",
       "      <th>...</th>\n",
       "      <td>...</td>\n",
       "      <td>...</td>\n",
       "      <td>...</td>\n",
       "    </tr>\n",
       "    <tr>\n",
       "      <th>35035</th>\n",
       "      <td>3.77625</td>\n",
       "      <td>3.342</td>\n",
       "      <td>4.856</td>\n",
       "    </tr>\n",
       "    <tr>\n",
       "      <th>35036</th>\n",
       "      <td>3.73900</td>\n",
       "      <td>4.425</td>\n",
       "      <td>8.561</td>\n",
       "    </tr>\n",
       "    <tr>\n",
       "      <th>35037</th>\n",
       "      <td>3.70175</td>\n",
       "      <td>2.473</td>\n",
       "      <td>6.076</td>\n",
       "    </tr>\n",
       "    <tr>\n",
       "      <th>35038</th>\n",
       "      <td>3.66450</td>\n",
       "      <td>3.241</td>\n",
       "      <td>11.797</td>\n",
       "    </tr>\n",
       "    <tr>\n",
       "      <th>35039</th>\n",
       "      <td>3.62725</td>\n",
       "      <td>3.271</td>\n",
       "      <td>16.040</td>\n",
       "    </tr>\n",
       "  </tbody>\n",
       "</table>\n",
       "<p>35040 rows × 3 columns</p>\n",
       "</div>"
      ],
      "text/plain": [
       "       DayAhead   Spot   REBAP\n",
       "0       2.83200  3.688  -4.566\n",
       "1       2.37575  4.245 -13.964\n",
       "2       1.91950  3.161   0.345\n",
       "3       1.46325  1.664   3.048\n",
       "4       1.00700  3.110  -6.679\n",
       "...         ...    ...     ...\n",
       "35035   3.77625  3.342   4.856\n",
       "35036   3.73900  4.425   8.561\n",
       "35037   3.70175  2.473   6.076\n",
       "35038   3.66450  3.241  11.797\n",
       "35039   3.62725  3.271  16.040\n",
       "\n",
       "[35040 rows x 3 columns]"
      ]
     },
     "execution_count": 35,
     "metadata": {},
     "output_type": "execute_result"
    }
   ],
   "source": [
    "# Load powerprice data and format it\n",
    "df_powerprice = pd.read_csv(\"data/PowerPrice.csv\")\n",
    "df_powerprice[\"Time\"] = pd.to_datetime(df_powerprice[\"Time\"], infer_datetime_format=True)\n",
    "df_powerprice = df_powerprice.drop(columns=[\"Time\"])\n",
    "df_powerprice"
   ]
  },
  {
   "cell_type": "code",
   "execution_count": 36,
   "id": "26b7f3ba",
   "metadata": {},
   "outputs": [
    {
     "name": "stdout",
     "output_type": "stream",
     "text": [
      "biogas_kw_2019.pickle\n",
      "brown_coal_kw_2019.pickle\n",
      "completed_solar_kw_2019.pickle\n",
      "completed_wind_onshore_kw_2019.pickle\n",
      "demand_kw_2019.pickle\n",
      "hard_coal_kw_2019.pickle\n",
      "nuclear_kw_2019.pickle\n",
      "oil_kw_2019.pickle\n",
      "water_laufwasser_kw_2019.pickle\n",
      "water_pumpspeicher_PB_kw_2019.pickle\n",
      "water_pumpspeicher_TB_kw_2019.pickle\n",
      "water_speicherwasser_kw_2019.pickle\n",
      "wind_offshore_kw_2019.pickle\n"
     ]
    }
   ],
   "source": [
    "# Load spatial data and format it\n",
    "datasets = []\n",
    "for filename in os.listdir(\"data/Spatial\"):\n",
    "    if filename.endswith(\".pickle\"):\n",
    "        with open(os.path.join(\"data/Spatial\", filename), \"rb\") as file:\n",
    "            data = pickle.load(file)\n",
    "            if data.shape == (100, 35040):\n",
    "                datasets.append(data)\n",
    "                print(filename)\n",
    "            else:\n",
    "                print(f\"Skipping {filename}: unexpected shape {data.shape}\")"
   ]
  },
  {
   "cell_type": "code",
   "execution_count": 37,
   "id": "863e02aa",
   "metadata": {},
   "outputs": [
    {
     "data": {
      "text/plain": [
       "(13, 100, 35040)"
      ]
     },
     "execution_count": 37,
     "metadata": {},
     "output_type": "execute_result"
    }
   ],
   "source": [
    "# Convert the list of arrays to a 3D array\n",
    "spatial_data = np.stack(datasets, axis=0)\n",
    "\n",
    "spatial_data = spatial_data.reshape((spatial_data.shape[0], spatial_data.shape[1], spatial_data.shape[2]))\n",
    "\n",
    "# transpose the second and third dimensions to get shape (13, 35040, 100)\n",
    "spatial_data = spatial_data.transpose((0, 1, 2))\n",
    "\n",
    "spatial_data.shape"
   ]
  },
  {
   "cell_type": "code",
   "execution_count": 38,
   "id": "d637fa40",
   "metadata": {},
   "outputs": [
    {
     "data": {
      "text/plain": [
       "(30, 30)"
      ]
     },
     "execution_count": 38,
     "metadata": {},
     "output_type": "execute_result"
    }
   ],
   "source": [
    "# Load mask and reshape to match desired output shape\n",
    "mask = pd.read_csv(\"germany/mask.csv\", header=None).values\n",
    "#mask = mask_df.values.reshape((40, 40, 1))\n",
    "\n",
    "mask.shape"
   ]
  },
  {
   "cell_type": "code",
   "execution_count": 39,
   "id": "d9b3f45c",
   "metadata": {},
   "outputs": [
    {
     "data": {
      "text/plain": [
       "(13, 100, 35040)"
      ]
     },
     "execution_count": 39,
     "metadata": {},
     "output_type": "execute_result"
    }
   ],
   "source": [
    "spatial_data.shape"
   ]
  },
  {
   "cell_type": "code",
   "execution_count": 40,
   "id": "7ecc254a",
   "metadata": {
    "scrolled": false
   },
   "outputs": [],
   "source": [
    "image_all = np.zeros((35040, 30, 30, 13))\n",
    "for j in range(spatial_data.shape[2]):\n",
    "    for i in range(spatial_data.shape[0]):\n",
    "        image = np.zeros((30, 30))\n",
    "        for s in range(spatial_data.shape[1]):\n",
    "            image[mask == s] = spatial_data[i,s,j]\n",
    "        #print(i)\n",
    "        image_all[j, :, :, i] = image"
   ]
  },
  {
   "cell_type": "code",
   "execution_count": 41,
   "id": "b671f36e",
   "metadata": {
    "scrolled": false
   },
   "outputs": [
    {
     "data": {
      "image/png": "[encoded data removed]",
      "text/plain": [
       "<Figure size 640x480 with 1 Axes>"
      ]
     },
     "metadata": {},
     "output_type": "display_data"
    }
   ],
   "source": [
    "plt.imshow(image_all[35030,:,:,4])\n",
    "plt.show()"
   ]
  },
  {
   "cell_type": "code",
   "execution_count": 42,
   "id": "0eaa7de5",
   "metadata": {},
   "outputs": [
    {
     "data": {
      "text/plain": [
       "(35040, 30, 30, 13)"
      ]
     },
     "execution_count": 42,
     "metadata": {},
     "output_type": "execute_result"
    }
   ],
   "source": [
    "image_all.shape"
   ]
  },
  {
   "cell_type": "code",
   "execution_count": null,
   "id": "7e6d28bb",
   "metadata": {},
   "outputs": [],
   "source": []
  },
  {
   "cell_type": "code",
   "execution_count": null,
   "id": "eb742537",
   "metadata": {},
   "outputs": [],
   "source": []
  },
  {
   "cell_type": "code",
   "execution_count": null,
   "id": "87a14352",
   "metadata": {},
   "outputs": [],
   "source": []
  },
  {
   "cell_type": "code",
   "execution_count": null,
   "id": "d1f037f7",
   "metadata": {},
   "outputs": [],
   "source": []
  },
  {
   "cell_type": "code",
   "execution_count": null,
   "id": "58478b0b",
   "metadata": {},
   "outputs": [],
   "source": []
  },
  {
   "cell_type": "code",
   "execution_count": null,
   "id": "c41104ca",
   "metadata": {},
   "outputs": [],
   "source": []
  },
  {
   "cell_type": "code",
   "execution_count": null,
   "id": "d3444e82",
   "metadata": {},
   "outputs": [],
   "source": []
  },
  {
   "cell_type": "code",
   "execution_count": null,
   "id": "47b344ed",
   "metadata": {},
   "outputs": [],
   "source": []
  },
  {
   "cell_type": "code",
   "execution_count": null,
   "id": "f98c089d",
   "metadata": {},
   "outputs": [],
   "source": []
  },
  {
   "cell_type": "code",
   "execution_count": null,
   "id": "d67e2c4d",
   "metadata": {},
   "outputs": [],
   "source": []
  },
  {
   "cell_type": "code",
   "execution_count": 64,
   "id": "bb9abcc4",
   "metadata": {},
   "outputs": [],
   "source": [
    "#input_2 = df_powerprice[\"DayAhead\"].values.reshape((-1, 4))\n",
    "#input_2.shape"
   ]
  },
  {
   "cell_type": "code",
   "execution_count": 65,
   "id": "99932a3b",
   "metadata": {},
   "outputs": [
    {
     "data": {
      "text/plain": [
       "(35040,)"
      ]
     },
     "execution_count": 65,
     "metadata": {},
     "output_type": "execute_result"
    }
   ],
   "source": [
    "output = df_powerprice[\"Spot\"].values\n",
    "\n",
    "output.shape"
   ]
  },
  {
   "cell_type": "code",
   "execution_count": null,
   "id": "40a207fc",
   "metadata": {},
   "outputs": [],
   "source": []
  },
  {
   "cell_type": "code",
   "execution_count": null,
   "id": "9d6dbc9e",
   "metadata": {},
   "outputs": [],
   "source": []
  },
  {
   "cell_type": "code",
   "execution_count": 66,
   "id": "306b8808",
   "metadata": {},
   "outputs": [],
   "source": [
    "def split_datasets(df, df2, window_size, look_ahead):\n",
    "    X = []\n",
    "    y = []\n",
    "    for i in range(len(df) - window_size - look_ahead + 1):\n",
    "        row = df[i:i+window_size, :, :, :]\n",
    "        X.append(row)\n",
    "        label = df2[i+window_size+look_ahead-1]\n",
    "        y.append(label)\n",
    "    return np.array(X), np.array(y)"
   ]
  },
  {
   "cell_type": "code",
   "execution_count": 67,
   "id": "967cbf3e",
   "metadata": {},
   "outputs": [
    {
     "name": "stdout",
     "output_type": "stream",
     "text": [
      "X shape: (35036, 4, 30, 30, 13), y shape: (35036,)\n"
     ]
    }
   ],
   "source": [
    "window_size = 4\n",
    "look_ahead = 1\n",
    "X, y = split_datasets(image_all, output, window_size=window_size, look_ahead=look_ahead)\n",
    "\n",
    "print(f\"X shape: {X.shape}, y shape: {y.shape}\")"
   ]
  },
  {
   "cell_type": "code",
   "execution_count": null,
   "id": "5f6b0c90",
   "metadata": {},
   "outputs": [],
   "source": []
  },
  {
   "cell_type": "code",
   "execution_count": null,
   "id": "b9b618c7",
   "metadata": {},
   "outputs": [],
   "source": []
  },
  {
   "cell_type": "code",
   "execution_count": null,
   "id": "47799b6d",
   "metadata": {},
   "outputs": [],
   "source": []
  },
  {
   "cell_type": "code",
   "execution_count": null,
   "id": "8f16bbd6",
   "metadata": {},
   "outputs": [],
   "source": []
  },
  {
   "cell_type": "code",
   "execution_count": null,
   "id": "eba90b97",
   "metadata": {},
   "outputs": [],
   "source": []
  },
  {
   "cell_type": "code",
   "execution_count": null,
   "id": "32467533",
   "metadata": {},
   "outputs": [],
   "source": []
  },
  {
   "cell_type": "code",
   "execution_count": null,
   "id": "64a9cf0f",
   "metadata": {},
   "outputs": [],
   "source": []
  },
  {
   "cell_type": "code",
   "execution_count": 68,
   "id": "88d4d6a2",
   "metadata": {},
   "outputs": [
    {
     "name": "stdout",
     "output_type": "stream",
     "text": [
      "X_train shape: (19619, 4, 30, 30, 13)\n",
      "y_train shape: (19619,)\n",
      "X_val shape: (8409, 4, 30, 30, 13)\n",
      "y_val shape: (8409,)\n",
      "X_test shape: (7008, 4, 30, 30, 13)\n",
      "y_test shape: (7008,)\n"
     ]
    }
   ],
   "source": [
    "# Split the data into train, validation, and test sets\n",
    "X_train, X_test, y_train, y_test = train_test_split(X, y, test_size=0.2, random_state=50)\n",
    "X_train, X_val, y_train, y_val = train_test_split(X_train, y_train, test_size=0.3, random_state=50)\n",
    "\n",
    "print(\"X_train shape:\", X_train.shape)\n",
    "print(\"y_train shape:\", y_train.shape)\n",
    "print(\"X_val shape:\", X_val.shape)\n",
    "print(\"y_val shape:\", y_val.shape)\n",
    "print(\"X_test shape:\", X_test.shape)\n",
    "print(\"y_test shape:\", y_test.shape)"
   ]
  },
  {
   "cell_type": "code",
   "execution_count": null,
   "id": "3fda41ab",
   "metadata": {},
   "outputs": [],
   "source": []
  },
  {
   "cell_type": "code",
   "execution_count": null,
   "id": "96e56b82",
   "metadata": {},
   "outputs": [],
   "source": []
  },
  {
   "cell_type": "code",
   "execution_count": 69,
   "id": "195fea67",
   "metadata": {},
   "outputs": [
    {
     "name": "stdout",
     "output_type": "stream",
     "text": [
      "Scaled X shape: (19619, 4, 30, 30, 13)\n"
     ]
    }
   ],
   "source": [
    "# Reshape the input array to a 2D array\n",
    "input_2d = X_train.reshape(-1, X_train.shape[-1])\n",
    "\n",
    "# Scale the array using MinMaxScaler\n",
    "scaler = MinMaxScaler()\n",
    "input_scaled = scaler.fit_transform(input_2d)\n",
    "\n",
    "# Reshape the scaled array back to the original shape\n",
    "X_train = input_scaled.reshape(X_train.shape)\n",
    "\n",
    "print(\"Scaled X shape:\", X_train.shape)"
   ]
  },
  {
   "cell_type": "code",
   "execution_count": null,
   "id": "ebd7e4e3",
   "metadata": {},
   "outputs": [],
   "source": []
  },
  {
   "cell_type": "code",
   "execution_count": null,
   "id": "7f5e3246",
   "metadata": {},
   "outputs": [],
   "source": []
  },
  {
   "cell_type": "code",
   "execution_count": 70,
   "id": "f9aee4bf",
   "metadata": {},
   "outputs": [
    {
     "data": {
      "text/plain": [
       "(19619, 1)"
      ]
     },
     "execution_count": 70,
     "metadata": {},
     "output_type": "execute_result"
    }
   ],
   "source": [
    "scaler_y_train = MinMaxScaler()\n",
    "y_train = scaler_y_train.fit_transform(y_train.reshape(-1, 1))\n",
    "y_train.shape"
   ]
  },
  {
   "cell_type": "code",
   "execution_count": null,
   "id": "8699215a",
   "metadata": {},
   "outputs": [],
   "source": []
  },
  {
   "cell_type": "code",
   "execution_count": 71,
   "id": "abb12334",
   "metadata": {},
   "outputs": [
    {
     "name": "stdout",
     "output_type": "stream",
     "text": [
      "Scaled X shape: (8409, 4, 30, 30, 13)\n"
     ]
    }
   ],
   "source": [
    "# Reshape the input array to a 2D array\n",
    "input_2d = X_val.reshape(-1, X_val.shape[-1])\n",
    "\n",
    "# Scale the array using MinMaxScaler\n",
    "scaler_x_val = MinMaxScaler()\n",
    "input_scaled = scaler_x_val.fit_transform(input_2d)\n",
    "\n",
    "# Reshape the scaled array back to the original shape\n",
    "X_val = input_scaled.reshape(X_val.shape)\n",
    "\n",
    "print(\"Scaled X shape:\", X_val.shape)"
   ]
  },
  {
   "cell_type": "code",
   "execution_count": null,
   "id": "c7fdfd93",
   "metadata": {},
   "outputs": [],
   "source": []
  },
  {
   "cell_type": "code",
   "execution_count": 72,
   "id": "b16e2170",
   "metadata": {},
   "outputs": [
    {
     "data": {
      "text/plain": [
       "(8409, 1)"
      ]
     },
     "execution_count": 72,
     "metadata": {},
     "output_type": "execute_result"
    }
   ],
   "source": [
    "scaler_y_val = MinMaxScaler()\n",
    "y_val = scaler_y_val.fit_transform(y_val.reshape(-1, 1))\n",
    "y_val.shape"
   ]
  },
  {
   "cell_type": "code",
   "execution_count": null,
   "id": "b37f79d8",
   "metadata": {},
   "outputs": [],
   "source": []
  },
  {
   "cell_type": "code",
   "execution_count": null,
   "id": "e94f43ae",
   "metadata": {},
   "outputs": [],
   "source": []
  },
  {
   "cell_type": "code",
   "execution_count": 73,
   "id": "5dc4bd0a",
   "metadata": {},
   "outputs": [
    {
     "name": "stdout",
     "output_type": "stream",
     "text": [
      "Model: \"model_1\"\n",
      "_________________________________________________________________\n",
      " Layer (type)                Output Shape              Param #   \n",
      "=================================================================\n",
      " input_2 (InputLayer)        [(None, 4, 30, 30, 13)]   0         \n",
      "                                                                 \n",
      " time_distributed_5 (TimeDis  (None, 4, 28, 28, 16)    1888      \n",
      " tributed)                                                       \n",
      "                                                                 \n",
      " time_distributed_6 (TimeDis  (None, 4, 14, 14, 16)    0         \n",
      " tributed)                                                       \n",
      "                                                                 \n",
      " time_distributed_7 (TimeDis  (None, 4, 12, 12, 32)    4640      \n",
      " tributed)                                                       \n",
      "                                                                 \n",
      " time_distributed_8 (TimeDis  (None, 4, 6, 6, 32)      0         \n",
      " tributed)                                                       \n",
      "                                                                 \n",
      " reshape_1 (Reshape)         (None, 4, 1152)           0         \n",
      "                                                                 \n",
      " time_distributed_9 (TimeDis  (None, 4, 10)            11530     \n",
      " tributed)                                                       \n",
      "                                                                 \n",
      " lstm1_1 (LSTM)              (None, 1)                 48        \n",
      "                                                                 \n",
      "=================================================================\n",
      "Total params: 18,106\n",
      "Trainable params: 18,106\n",
      "Non-trainable params: 0\n",
      "_________________________________________________________________\n"
     ]
    }
   ],
   "source": [
    "time_steps = 4\n",
    "width = 30\n",
    "height = 30\n",
    "channel = 13\n",
    "\n",
    "# Define the input layer\n",
    "input_layer = Input(shape=(time_steps, width, height, channel))\n",
    "\n",
    "# Define the convolutional layers\n",
    "cnn1 = Conv2D(filters=16, kernel_size=(3, 3), activation='relu')\n",
    "cnn2 = MaxPooling2D(pool_size=(2, 2))\n",
    "cnn3 = Conv2D(filters=32, kernel_size=(3, 3), activation='relu')\n",
    "cnn4 = MaxPooling2D(pool_size=(2, 2))\n",
    "\n",
    "# Apply TimeDistributed to the convolutional layers\n",
    "td_cnn1 = TimeDistributed(cnn1)(input_layer)\n",
    "td_cnn2 = TimeDistributed(cnn2)(td_cnn1)\n",
    "td_cnn3 = TimeDistributed(cnn3)(td_cnn2)\n",
    "td_cnn4 = TimeDistributed(cnn4)(td_cnn3)\n",
    "\n",
    "# Reshape the output of the convolutional layers\n",
    "reshaped = Reshape((-1, 6*6*32))(td_cnn4)\n",
    "\n",
    "# Apply TimeDistributed Dense layer\n",
    "td_fcnn = TimeDistributed(Dense(10, activation='relu', name='output'))(reshaped)\n",
    "\n",
    "# Apply LSTM layer\n",
    "lstm_output = LSTM(1, name='lstm1_1')(td_fcnn)\n",
    "\n",
    "# Create the model\n",
    "model = Model(inputs=input_layer, outputs=lstm_output)\n",
    "\n",
    "# Print the model summary\n",
    "model.summary()"
   ]
  },
  {
   "cell_type": "code",
   "execution_count": null,
   "id": "930f75b6",
   "metadata": {},
   "outputs": [],
   "source": []
  },
  {
   "cell_type": "code",
   "execution_count": 74,
   "id": "360437be",
   "metadata": {},
   "outputs": [],
   "source": [
    "# Compile the model with an appropriate optimizer and loss function\n",
    "\n",
    "model.compile(loss=MeanSquaredError(), optimizer=Adam(learning_rate=0.0001), metrics=[RootMeanSquaredError()])"
   ]
  },
  {
   "cell_type": "code",
   "execution_count": 75,
   "id": "ede87ff4",
   "metadata": {},
   "outputs": [],
   "source": [
    "# Define callbacks for early stopping and checkpoint saving\n",
    "es = EarlyStopping(monitor='val_loss', patience=12, verbose=1, restore_best_weights=True)"
   ]
  },
  {
   "cell_type": "code",
   "execution_count": 76,
   "id": "dc55f74d",
   "metadata": {},
   "outputs": [],
   "source": [
    "cp = ModelCheckpoint(filepath=\"training/cnn-lstm/model3.h5\", \n",
    "                      save_best_only=True,\n",
    "                      monitor='val_loss', \n",
    "                      mode='min', \n",
    "                      save_weights_only=False, \n",
    "                      verbose=1)"
   ]
  },
  {
   "cell_type": "code",
   "execution_count": null,
   "id": "271981ff",
   "metadata": {
    "scrolled": true
   },
   "outputs": [],
   "source": [
    "# Fit the model on the training data\n",
    "history = model.fit(X_train, y_train, batch_size=50, epochs=1000, validation_data=(X_val, y_val), callbacks=[cp, es])"
   ]
  },
  {
   "cell_type": "code",
   "execution_count": null,
   "id": "602bd9ee",
   "metadata": {
    "scrolled": false
   },
   "outputs": [],
   "source": [
    "#Plot the training and validation loss\n",
    "\n",
    "plt.figure(figsize=(10,5))\n",
    "plt.plot(history.history['loss'])\n",
    "plt.plot(history.history['val_loss'])\n",
    "plt.title('Model Loss')\n",
    "plt.ylabel('Loss')\n",
    "plt.xlabel('Epoch')\n",
    "plt.legend(['Train', 'Validation'], loc='upper right')\n",
    "plt.show()"
   ]
  },
  {
   "cell_type": "code",
   "execution_count": null,
   "id": "6407173b",
   "metadata": {},
   "outputs": [],
   "source": []
  },
  {
   "cell_type": "code",
   "execution_count": null,
   "id": "b578c2fa",
   "metadata": {},
   "outputs": [],
   "source": [
    "# Get the training and validation accuracy values from the history object\n",
    "train_acc = history.history['root_mean_squared_error']\n",
    "val_acc = history.history['val_root_mean_squared_error']\n",
    "\n",
    "# Create a plot of training and validation accuracy\n",
    "epochs = range(1, len(train_acc) + 1)\n",
    "plt.figure(figsize=(10,5))\n",
    "plt.plot(epochs, train_acc, 'b', label='Training RMSE')\n",
    "plt.plot(epochs, val_acc, 'r', label='Validation RMSE')\n",
    "plt.title('Training and Validation Root Mean Squared Error')\n",
    "plt.xlabel('Epoch')\n",
    "plt.ylabel('RMSE')\n",
    "plt.legend()\n",
    "plt.show()"
   ]
  },
  {
   "cell_type": "code",
   "execution_count": null,
   "id": "28fab2a5",
   "metadata": {},
   "outputs": [],
   "source": [
    "# After training, print actual and predicted values for the validation data\n",
    "y_val_pred = model.predict(X_val)\n",
    "print(\"Actual\\t\\tPredicted\")\n",
    "for i in range(len(y_val)):\n",
    "    print(f\"{y_val[i]}\\t{y_val_pred[i]}\")"
   ]
  },
  {
   "cell_type": "code",
   "execution_count": null,
   "id": "f088e22f",
   "metadata": {},
   "outputs": [],
   "source": []
  },
  {
   "cell_type": "code",
   "execution_count": null,
   "id": "7027c3cc",
   "metadata": {},
   "outputs": [],
   "source": []
  },
  {
   "cell_type": "code",
   "execution_count": null,
   "id": "3894ee20",
   "metadata": {},
   "outputs": [],
   "source": [
    "# Define the preprocess_input_data function\n",
    "def preprocess_input_data(input_data):\n",
    "    # Create a MinMaxScaler instance\n",
    "    scaler = MinMaxScaler()\n",
    "\n",
    "    # Reshape the input data to a 2D array\n",
    "    input_2d = input_data.reshape(-1, input_data.shape[-1])\n",
    "\n",
    "    # Apply the scaler to the input data\n",
    "    input_scaled = scaler.fit_transform(input_2d)\n",
    "\n",
    "    # Reshape the scaled data back to the original shape\n",
    "    preprocessed_input = input_scaled.reshape(input_data.shape)\n",
    "\n",
    "    # Return the preprocessed input data\n",
    "    return preprocessed_input"
   ]
  },
  {
   "cell_type": "code",
   "execution_count": null,
   "id": "2234f2b7",
   "metadata": {},
   "outputs": [],
   "source": [
    "# Dummy input data with shape (4050, 4, 30, 30, 13)\n",
    "input_data = np.random.rand(4050, 4, 30, 30, 13)\n",
    "\n",
    "# Preprocess the input data\n",
    "preprocessed_input = preprocess_input_data(input_data)\n",
    "\n",
    "# Load the trained model\n",
    "model.load_weights(\"training/cnn-lstm/\")  # Provide the path to the trained model weights\n",
    "\n",
    "# Make predictions\n",
    "predictions = model.predict(preprocessed_input)\n",
    "\n",
    "# Access the predicted values\n",
    "result = predictions.flatten()  # Flatten the predictions array to obtain a 1D array of predicted values\n",
    "\n",
    "# Print the shape and the values of the result array\n",
    "print(\"Result shape:\", result.shape)\n",
    "print(\"Predicted values:\", result)"
   ]
  },
  {
   "cell_type": "code",
   "execution_count": null,
   "id": "dd746d11",
   "metadata": {},
   "outputs": [],
   "source": []
  },
  {
   "cell_type": "code",
   "execution_count": null,
   "id": "d383b650",
   "metadata": {},
   "outputs": [],
   "source": [
    "y_val.shape"
   ]
  },
  {
   "cell_type": "code",
   "execution_count": null,
   "id": "fb9e261b",
   "metadata": {},
   "outputs": [],
   "source": [
    "y_val_pred.shape"
   ]
  },
  {
   "cell_type": "code",
   "execution_count": null,
   "id": "e87a801d",
   "metadata": {},
   "outputs": [],
   "source": []
  },
  {
   "cell_type": "code",
   "execution_count": null,
   "id": "e53c2a9e",
   "metadata": {},
   "outputs": [],
   "source": []
  },
  {
   "cell_type": "code",
   "execution_count": null,
   "id": "c48ed652",
   "metadata": {},
   "outputs": [],
   "source": []
  },
  {
   "cell_type": "code",
   "execution_count": null,
   "id": "68589b6b",
   "metadata": {},
   "outputs": [],
   "source": []
  },
  {
   "cell_type": "code",
   "execution_count": null,
   "id": "869f6f76",
   "metadata": {},
   "outputs": [],
   "source": []
  },
  {
   "cell_type": "code",
   "execution_count": null,
   "id": "53d31441",
   "metadata": {},
   "outputs": [],
   "source": []
  }
 ],
 "metadata": {
  "kernelspec": {
   "display_name": "Python 3 (ipykernel)",
   "language": "python",
   "name": "python3"
  },
  "language_info": {
   "codemirror_mode": {
    "name": "ipython",
    "version": 3
   },
   "file_extension": ".py",
   "mimetype": "text/x-python",
   "name": "python",
   "nbconvert_exporter": "python",
   "pygments_lexer": "ipython3",
   "version": "3.9.13"
  }
 },
 "nbformat": 4,
 "nbformat_minor": 5
}
